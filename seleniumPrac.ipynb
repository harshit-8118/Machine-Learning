{
 "cells": [
  {
   "cell_type": "code",
   "execution_count": null,
   "id": "84c38925-557d-453c-85ee-faf9ceeb6031",
   "metadata": {},
   "outputs": [],
   "source": [
    "from selenium import webdriver\n",
    "from selenium.webdriver.common.by import By\n",
    "from selenium.webdriver.support.ui import WebDriverWait\n",
    "from selenium.webdriver.support import expected_conditions as EC\n",
    "from chromedriver_py import binary_path\n",
    "from selenium.webdriver.chrome.options import Options\n",
    "chrome_options = Options()\n",
    "chrome_options.add_argument('--disabled-cookies')\n",
    "chrome_options.add_experimental_option(\"detach\", True)\n",
    "svc = webdriver.ChromeService(executable_path=binary_path)\n",
    "browser = webdriver.Chrome(service=svc)\n",
    "\n",
    "browser.get(\"http://www.codechef.org\")\n",
    "login = WebDriverWait(browser, 10).until(\n",
    "    EC.element_to_be_clickable((By.CLASS_NAME, 'm-login-button-no-border'))\n",
    ")\n",
    "login.click()\n",
    "# browser.find_element(By.CLASS_NAME, value='m-login-button-no-border')\n",
    "\n",
    "username = WebDriverWait(browser, 10).until(\n",
    "    EC.visibility_of_element_located((By.XPATH, '/html/body/section/div[2]/div/div[3]/div[2]/form/div/div[1]/div/div/input'))\n",
    ")\n",
    "username.send_keys('hharshit8118@gmail.com')\n",
    "\n",
    "password = WebDriverWait(browser, 10).until(\n",
    "    EC.visibility_of_element_located((By.XPATH, '/html/body/section/div[2]/div/div[3]/div[2]/form/div/div[2]/div/div[2]/input'))\n",
    ")\n",
    "password.send_keys('Harshit@8118')\n",
    "try:\n",
    "    submit = WebDriverWait(browser, 10).until(\n",
    "        EC.element_to_be_clickable((By.XPATH, '/html/body/section/div[2]/div/div[3]/div[2]/form/div/div[3]/input'))\n",
    "    )\n",
    "    submit.click()\n",
    "except Exception as e:\n",
    "    print(e)\n",
    "# submit = browser.find_element(By.ID, 'edit-submit-button')\n",
    "# submit.click()\n",
    "browser.get('https://www.codechef.com/problems/TEST')\n",
    "\n",
    "with open('sol.cpp', 'r') as f:\n",
    "    code = f.read()\n",
    "try:\n",
    "    textarea = WebDriverWait(browser, 10).until(\n",
    "        EC.visibility_of_element_located((By.XPATH, '/html/body/div[1]/div/div[2]/div/div/div[2]/div/div[3]/div/div/div[2]/div[1]/div[2]/textarea'))\n",
    "    )\n",
    "    textarea.send_keys(code)\n",
    "except Exception as e:\n",
    "    print(e)\n",
    "\n",
    "try:\n",
    "    submitcode = WebDriverWait(browser, 10).until(\n",
    "        EC.element_to_be_clickable((By.XPATH, '/html/body/div[1]/div/div[2]/div/div/div[2]/div/div[3]/div/div/div[2]/div[3]/div[2]/div[2]/div/button[2]'))\n",
    "    )\n",
    "    submitcode.click()\n",
    "except Exception as e:\n",
    "    print(e)\n",
    "\n",
    "while True:\n",
    "    pass\n"
   ]
  },
  {
   "cell_type": "code",
   "execution_count": null,
   "id": "213a0865-7c45-4704-940b-40ef50d78cbe",
   "metadata": {},
   "outputs": [],
   "source": []
  },
  {
   "cell_type": "code",
   "execution_count": null,
   "id": "c5c5bcee-328e-4104-9080-d0a00244d4c6",
   "metadata": {},
   "outputs": [],
   "source": []
  },
  {
   "cell_type": "code",
   "execution_count": null,
   "id": "341ef45a-28ef-4ae1-8978-17bdc5a964a3",
   "metadata": {},
   "outputs": [],
   "source": []
  },
  {
   "cell_type": "code",
   "execution_count": null,
   "id": "a153e1f2-659c-40a1-a823-b75c4a90ea17",
   "metadata": {},
   "outputs": [],
   "source": []
  },
  {
   "cell_type": "code",
   "execution_count": null,
   "id": "aad80cce-63de-4a28-994e-77e60db7ea61",
   "metadata": {},
   "outputs": [],
   "source": []
  },
  {
   "cell_type": "code",
   "execution_count": null,
   "id": "b260cf55-5f5a-46d0-b1e8-7a147ed729f7",
   "metadata": {},
   "outputs": [],
   "source": []
  }
 ],
 "metadata": {
  "kernelspec": {
   "display_name": "Python 3 (ipykernel)",
   "language": "python",
   "name": "python3"
  },
  "language_info": {
   "codemirror_mode": {
    "name": "ipython",
    "version": 3
   },
   "file_extension": ".py",
   "mimetype": "text/x-python",
   "name": "python",
   "nbconvert_exporter": "python",
   "pygments_lexer": "ipython3",
   "version": "3.11.3"
  }
 },
 "nbformat": 4,
 "nbformat_minor": 5
}
