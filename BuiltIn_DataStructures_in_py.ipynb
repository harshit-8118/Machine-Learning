{
 "cells": [
  {
   "cell_type": "code",
   "execution_count": 7,
   "id": "53435a95-da05-4952-831b-d910ef18e2aa",
   "metadata": {},
   "outputs": [],
   "source": [
    "a = \"Jatin\""
   ]
  },
  {
   "cell_type": "code",
   "execution_count": 8,
   "id": "2575fd72-2b7d-45ff-b75a-7d22eb0c9c34",
   "metadata": {},
   "outputs": [
    {
     "name": "stdout",
     "output_type": "stream",
     "text": [
      "Jatin\n"
     ]
    }
   ],
   "source": [
    "# a[1] = 'C' not mutable\n",
    "print(a)"
   ]
  },
  {
   "cell_type": "code",
   "execution_count": 10,
   "id": "b408c2dd-78dc-4dc8-bfca-614ea1a86931",
   "metadata": {},
   "outputs": [
    {
     "data": {
      "text/plain": [
       "'A'"
      ]
     },
     "execution_count": 10,
     "metadata": {},
     "output_type": "execute_result"
    }
   ],
   "source": [
    "chr(65)"
   ]
  },
  {
   "cell_type": "code",
   "execution_count": 11,
   "id": "198c22d1-79c8-4cc9-858c-731e7059667b",
   "metadata": {},
   "outputs": [
    {
     "data": {
      "text/plain": [
       "65"
      ]
     },
     "execution_count": 11,
     "metadata": {},
     "output_type": "execute_result"
    }
   ],
   "source": [
    "ord('A')"
   ]
  },
  {
   "cell_type": "code",
   "execution_count": 12,
   "id": "be85e942-69d1-4fb7-b4ea-c92eada14dd2",
   "metadata": {},
   "outputs": [
    {
     "data": {
      "text/plain": [
       "5"
      ]
     },
     "execution_count": 12,
     "metadata": {},
     "output_type": "execute_result"
    }
   ],
   "source": [
    "len(a)"
   ]
  },
  {
   "cell_type": "code",
   "execution_count": 26,
   "id": "c9964872-4232-4c03-bc19-b85cfc6c104c",
   "metadata": {},
   "outputs": [
    {
     "name": "stdout",
     "output_type": "stream",
     "text": [
      "\n",
      "this is my\n",
      "paragraph.\n",
      "\n",
      "\n",
      "this is my\n",
      "paragraph second.\n",
      "\n"
     ]
    }
   ],
   "source": [
    "para = \"\"\"\n",
    "this is my\n",
    "paragraph.\n",
    "\"\"\"\n",
    "\n",
    "para2 = '''\n",
    "this is my\n",
    "paragraph second.\n",
    "'''\n",
    "print(para)\n",
    "print(para2)"
   ]
  },
  {
   "cell_type": "code",
   "execution_count": 37,
   "id": "cd4b18f1-1c00-4f2a-8230-2f54c8032026",
   "metadata": {},
   "outputs": [
    {
     "name": "stdout",
     "output_type": "stream",
     "text": [
      "hello\n"
     ]
    }
   ],
   "source": [
    "\"\"\"\n",
    "can use as multiline comment also\n",
    "\"\"\"\n",
    "print(\"hello\")"
   ]
  },
  {
   "cell_type": "code",
   "execution_count": 19,
   "id": "d035cbe3-9005-40e3-aea9-315b310e3085",
   "metadata": {},
   "outputs": [
    {
     "name": "stdout",
     "output_type": "stream",
     "text": [
      "jatin-dhanuk\n",
      "jatin-dhanuk\n",
      "dhanuk-jatin\n",
      "Shukla-Harshit\n"
     ]
    }
   ],
   "source": [
    "a = 'jatin'\n",
    "b = 'dhanuk'\n",
    "\n",
    "print(\"%s-%s\" % (a, b)) # strict format\n",
    "print(\"{}-{}\".format(a, b)) # flexible format\n",
    "print(\"{1}-{0}\".format(a, b)) # flexible format\n",
    "print(\"{lname}-{fname}\".format(fname=\"Harshit\", lname=\"Shukla\"))"
   ]
  },
  {
   "cell_type": "code",
   "execution_count": 20,
   "id": "6a587e57-f064-4acf-9834-42aa7ac9e8b2",
   "metadata": {},
   "outputs": [],
   "source": [
    "lastname = \"pujiyal\"\n",
    "firstname = \"priya\""
   ]
  },
  {
   "cell_type": "code",
   "execution_count": 23,
   "id": "1ccb0b61-f898-46dd-80fb-86c6b4350377",
   "metadata": {},
   "outputs": [
    {
     "name": "stdout",
     "output_type": "stream",
     "text": [
      "{firstname}-{lastname}\n",
      "priya-pujiyal\n"
     ]
    }
   ],
   "source": [
    "print(\"{firstname}-{lastname}\")\n",
    "print(f\"{firstname}-{lastname}\")"
   ]
  },
  {
   "cell_type": "code",
   "execution_count": 71,
   "id": "b7380f7e-b761-4ba9-9cc8-23490f90c7bf",
   "metadata": {},
   "outputs": [
    {
     "name": "stdin",
     "output_type": "stream",
     "text": [
      " 1 2 3 4 5 6 \n"
     ]
    }
   ],
   "source": [
    "a = input()"
   ]
  },
  {
   "cell_type": "code",
   "execution_count": 72,
   "id": "6a127b02-6aac-4d3a-9d45-a3ddc6822c7f",
   "metadata": {},
   "outputs": [
    {
     "data": {
      "text/plain": [
       "'1 2 3 4 5 6 '"
      ]
     },
     "execution_count": 72,
     "metadata": {},
     "output_type": "execute_result"
    }
   ],
   "source": [
    "a"
   ]
  },
  {
   "cell_type": "code",
   "execution_count": 74,
   "id": "4c54cffb-1d43-4f93-800c-fb221422ee16",
   "metadata": {},
   "outputs": [
    {
     "name": "stdout",
     "output_type": "stream",
     "text": [
      "['1', '2', '3', '4', '5', '6']\n",
      "<class 'list'>\n"
     ]
    }
   ],
   "source": [
    "a = a.split()\n",
    "print(a)\n",
    "print(type(a))"
   ]
  },
  {
   "cell_type": "code",
   "execution_count": 80,
   "id": "163d31e3-50d0-4904-bfb6-47947240d6a8",
   "metadata": {},
   "outputs": [],
   "source": [
    "a = \"aabcacaaacvvbb\""
   ]
  },
  {
   "cell_type": "code",
   "execution_count": 84,
   "id": "5df66ceb-1add-4713-a4d8-33b1a98c021f",
   "metadata": {},
   "outputs": [
    {
     "name": "stdout",
     "output_type": "stream",
     "text": [
      "3 0 2\n"
     ]
    }
   ],
   "source": [
    "x = a.count('c')\n",
    "y = a.count('d')\n",
    "a = a.replace('v', 'd')\n",
    "z = a.count('d')\n",
    "print(x, y, z)"
   ]
  },
  {
   "cell_type": "code",
   "execution_count": 85,
   "id": "5edcc1b7-e606-4039-9595-155faaa6f855",
   "metadata": {},
   "outputs": [
    {
     "name": "stdout",
     "output_type": "stream",
     "text": [
      "abcabcabc\n"
     ]
    }
   ],
   "source": [
    "x = \"abc\"\n",
    "x *= 3\n",
    "print(x)"
   ]
  },
  {
   "cell_type": "code",
   "execution_count": 88,
   "id": "7166e753-5ebe-4af4-92bf-f8d88365bd12",
   "metadata": {},
   "outputs": [
    {
     "data": {
      "text/plain": [
       "'a'"
      ]
     },
     "execution_count": 88,
     "metadata": {},
     "output_type": "execute_result"
    }
   ],
   "source": [
    "max(x)\n",
    "min(x)"
   ]
  },
  {
   "cell_type": "code",
   "execution_count": 108,
   "id": "2d81d689-59b5-4bb6-a526-1d6c655f2eaa",
   "metadata": {},
   "outputs": [
    {
     "name": "stdout",
     "output_type": "stream",
     "text": [
      "bcab\n",
      "abcabcabc\n",
      "abcabcabc\n",
      "bacb\n"
     ]
    }
   ],
   "source": [
    "print(x[1:5])\n",
    "print(x[0:40])\n",
    "print(x[-9:])\n",
    "print(x[1:9:2])"
   ]
  },
  {
   "cell_type": "markdown",
   "id": "59dd676f-1a4b-4479-bcd5-8b6b53948887",
   "metadata": {},
   "source": [
    "## lists "
   ]
  },
  {
   "cell_type": "code",
   "execution_count": 109,
   "id": "588f84eb-6f6c-46ea-b94a-ca04bc28f222",
   "metadata": {},
   "outputs": [
    {
     "name": "stdout",
     "output_type": "stream",
     "text": [
      "[1, 2, 3, 4, 'Harshit', 'Shukla']\n"
     ]
    }
   ],
   "source": [
    "a = [1, 2, 3, 4, \"Harshit\", \"Shukla\"]\n",
    "print(a)"
   ]
  },
  {
   "cell_type": "code",
   "execution_count": 112,
   "id": "bf88efbf-b1b0-434f-bd9e-fcf5d31457a4",
   "metadata": {},
   "outputs": [
    {
     "name": "stdout",
     "output_type": "stream",
     "text": [
      "[1, 2, 3, 4, 'Harshit', 'Shukla']\n",
      "[3, 4, 'Harshit', 'Shukla']\n",
      "[1, 2, 3, 4, 'Harshit']\n"
     ]
    },
    {
     "data": {
      "text/plain": [
       "6"
      ]
     },
     "execution_count": 112,
     "metadata": {},
     "output_type": "execute_result"
    }
   ],
   "source": [
    "print(a[:])\n",
    "print(a[-4:])\n",
    "print(a[:-1])\n",
    "len(a)"
   ]
  },
  {
   "cell_type": "code",
   "execution_count": 115,
   "id": "35730bc5-5500-46eb-89a1-a498b7ad63c7",
   "metadata": {},
   "outputs": [
    {
     "name": "stdout",
     "output_type": "stream",
     "text": [
      "[-1, 0, 1, 2, 3, 4, 'Harshit', 'Shukla', 5, 6, 7]\n"
     ]
    }
   ],
   "source": [
    "y = [-1, 0] + a + [5, 6, 7]\n",
    "print(y)"
   ]
  },
  {
   "cell_type": "code",
   "execution_count": 123,
   "id": "6a18e57d-10ba-49e6-8ebf-8289511fb301",
   "metadata": {},
   "outputs": [
    {
     "name": "stdout",
     "output_type": "stream",
     "text": [
      "[1, 2, 3, 4, 'Harshit', 'Shukla', 'is', ['a', 'good', 'boy'], 'is']\n"
     ]
    }
   ],
   "source": [
    "a.append('is')\n",
    "print(a)"
   ]
  },
  {
   "cell_type": "code",
   "execution_count": 126,
   "id": "4ba003c6-3537-4c85-b819-791967fb92f7",
   "metadata": {},
   "outputs": [
    {
     "name": "stdout",
     "output_type": "stream",
     "text": [
      "[1, 2, 3, 'Harshit', 'Shukla', 'is', ['a', 'good', 'boy'], 'is']\n"
     ]
    }
   ],
   "source": [
    "a.insert(3, 'Harshit')\n",
    "print(a)"
   ]
  },
  {
   "cell_type": "code",
   "execution_count": 128,
   "id": "db43f4db-94bc-4e35-8572-aa6f88ead8b5",
   "metadata": {},
   "outputs": [
    {
     "data": {
      "text/plain": [
       "'is'"
      ]
     },
     "execution_count": 128,
     "metadata": {},
     "output_type": "execute_result"
    }
   ],
   "source": [
    "a.pop(6)"
   ]
  },
  {
   "cell_type": "code",
   "execution_count": 131,
   "id": "b6c7dba9-a0de-4119-b6b7-dafda9c16c73",
   "metadata": {},
   "outputs": [
    {
     "name": "stdout",
     "output_type": "stream",
     "text": [
      "[-1, 0, 1, 2, 3, 4, 'Harshit', 'Shukla', 5, 6, 7]\n",
      "[]\n"
     ]
    }
   ],
   "source": [
    "print(y)\n",
    "y.clear()\n",
    "print(y)"
   ]
  },
  {
   "cell_type": "code",
   "execution_count": 133,
   "id": "e253d038-6e90-4374-b108-1340fd8fc844",
   "metadata": {},
   "outputs": [
    {
     "name": "stdout",
     "output_type": "stream",
     "text": [
      "[1, 2, 3, 'Harshit', 'Shukla', 'is']\n"
     ]
    }
   ],
   "source": [
    "z = a # deep copy\n",
    "print(z)\n",
    "z.append('a')\n",
    "z.append('good')\n",
    "z.append('boy.')"
   ]
  },
  {
   "cell_type": "code",
   "execution_count": 134,
   "id": "be01cc01-6406-4f0b-81eb-678851a850cd",
   "metadata": {},
   "outputs": [
    {
     "name": "stdout",
     "output_type": "stream",
     "text": [
      "[1, 2, 3, 'Harshit', 'Shukla', 'is', 'a', 'good', 'boy.']\n",
      "[1, 2, 3, 'Harshit', 'Shukla', 'is', 'a', 'good', 'boy.']\n"
     ]
    }
   ],
   "source": [
    "print(z)\n",
    "print(a)"
   ]
  },
  {
   "cell_type": "code",
   "execution_count": 135,
   "id": "1e3972ae-d389-4e37-afa8-9339f45d19cd",
   "metadata": {},
   "outputs": [
    {
     "name": "stdout",
     "output_type": "stream",
     "text": [
      "[1, 2, 3, 'Harshit', 'Shukla', 'is', 'a', 'good', 'boy.']\n",
      "[2, 'Harshit', 'is', 'a', 'good', 'boy.']\n",
      "[1, 2, 3, 'Harshit', 'Shukla', 'is', 'a', 'good', 'boy.']\n"
     ]
    }
   ],
   "source": [
    "z = a.copy()\n",
    "print(z)\n",
    "z.pop(0)\n",
    "z.pop(1)\n",
    "z.pop(2)\n",
    "print(z)\n",
    "print(a)"
   ]
  },
  {
   "cell_type": "markdown",
   "id": "c7005693-91d0-4ecc-befe-ac4518931503",
   "metadata": {},
   "source": [
    "## dictionary"
   ]
  },
  {
   "cell_type": "code",
   "execution_count": 136,
   "id": "8c8e4cbc-fc9b-4648-a6d1-7825126c9e06",
   "metadata": {},
   "outputs": [
    {
     "data": {
      "text/plain": [
       "{'name': 'jatin',\n",
       " 'age': 23,\n",
       " 'subjects': ['dsa', 'cp'],\n",
       " 'friends': {'facebook': ['pulkit', 'sikhar', 'dhanush'],\n",
       "  'whatsapp': ['shree', 'krishna', 'ramendra', 'shanee']}}"
      ]
     },
     "execution_count": 136,
     "metadata": {},
     "output_type": "execute_result"
    }
   ],
   "source": [
    "a = {\n",
    "    'name': 'jatin', \n",
    "    'age': 23,\n",
    "    'subjects': ['dsa', 'cp'],\n",
    "    'friends': {\n",
    "        'facebook': ['pulkit', 'sikhar', 'dhanush'],\n",
    "        'whatsapp': ['shree', 'krishna', 'ramendra', 'shanee']\n",
    "    }\n",
    "}\n",
    "a"
   ]
  },
  {
   "cell_type": "code",
   "execution_count": 139,
   "id": "9a6ca4be-8e13-4ee0-af38-52e25e21f5e6",
   "metadata": {},
   "outputs": [
    {
     "name": "stdout",
     "output_type": "stream",
     "text": [
      "('name', 'jatin')\n",
      "('age', 23)\n",
      "('subjects', ['dsa', 'cp'])\n",
      "('friends', {'facebook': ['pulkit', 'sikhar', 'dhanush'], 'whatsapp': ['shree', 'krishna', 'ramendra', 'shanee']})\n",
      "name=>jatin\n",
      "age=>23\n",
      "subjects=>['dsa', 'cp']\n",
      "friends=>{'facebook': ['pulkit', 'sikhar', 'dhanush'], 'whatsapp': ['shree', 'krishna', 'ramendra', 'shanee']}\n"
     ]
    }
   ],
   "source": [
    "for i in a.items():\n",
    "    print(i)\n",
    "\n",
    "for k, v in a.items():\n",
    "    print(k + '=>' + str(v))"
   ]
  },
  {
   "cell_type": "code",
   "execution_count": 142,
   "id": "21445a3c-77ec-4be2-8f87-2874d1250e8f",
   "metadata": {},
   "outputs": [
    {
     "name": "stdout",
     "output_type": "stream",
     "text": [
      "name jatin\n",
      "age 23\n",
      "subjects ['dsa', 'cp']\n",
      "friends {'facebook': ['pulkit', 'sikhar', 'dhanush'], 'whatsapp': ['shree', 'krishna', 'ramendra', 'shanee']}\n"
     ]
    }
   ],
   "source": [
    "for _ in a:\n",
    "    print(_, a[_])"
   ]
  },
  {
   "cell_type": "code",
   "execution_count": 150,
   "id": "471a4922-9a36-49bd-811e-2bd23e9f8953",
   "metadata": {},
   "outputs": [
    {
     "name": "stdout",
     "output_type": "stream",
     "text": [
      "jatin\n",
      "None\n",
      "['dsa', 'cp']\n"
     ]
    }
   ],
   "source": [
    "print(a['name'])\n",
    "# a['branch'] # will give error if not found key in dict\n",
    "print(a.get('branch'))\n",
    "print(a.get('subjects'))"
   ]
  },
  {
   "cell_type": "code",
   "execution_count": 153,
   "id": "3a5aa9cd-dcc7-4928-b4b2-64d99e36cf73",
   "metadata": {},
   "outputs": [
    {
     "name": "stdout",
     "output_type": "stream",
     "text": [
      "name\n",
      "age\n",
      "subjects\n",
      "friends\n",
      "\n",
      "jatin\n",
      "23\n",
      "['dsa', 'cp']\n",
      "{'facebook': ['pulkit', 'sikhar', 'dhanush'], 'whatsapp': ['shree', 'krishna', 'ramendra', 'shanee']}\n"
     ]
    }
   ],
   "source": [
    "for i in a.keys():\n",
    "    print(i)\n",
    "print()\n",
    "for i in a.values():\n",
    "    print(i)"
   ]
  },
  {
   "cell_type": "markdown",
   "id": "729d4d48-cef2-4ec0-a08f-cc4c238edd44",
   "metadata": {},
   "source": [
    "### keys in dict can be any immutable data type"
   ]
  },
  {
   "cell_type": "markdown",
   "id": "c691ef98-b6eb-4dcc-9caa-d22e40700370",
   "metadata": {},
   "source": [
    "## sets in python"
   ]
  },
  {
   "cell_type": "code",
   "execution_count": 167,
   "id": "2e35ba8d-0101-49a3-8e84-ef5d821bb276",
   "metadata": {},
   "outputs": [
    {
     "name": "stdout",
     "output_type": "stream",
     "text": [
      "{1, 2, 3, 4, 5, 6, 7, 8}\n"
     ]
    },
    {
     "data": {
      "text/plain": [
       "set"
      ]
     },
     "execution_count": 167,
     "metadata": {},
     "output_type": "execute_result"
    }
   ],
   "source": [
    "a = {1, 2, 3, 4, 4, 5, 6, 7, 7, 8}\n",
    "print(a)\n",
    "type(a)"
   ]
  },
  {
   "cell_type": "code",
   "execution_count": 158,
   "id": "c1e44117-9369-45a7-b030-4f3b54f26a71",
   "metadata": {},
   "outputs": [
    {
     "data": {
      "text/plain": [
       "dict"
      ]
     },
     "execution_count": 158,
     "metadata": {},
     "output_type": "execute_result"
    }
   ],
   "source": [
    "b = {}\n",
    "type(b)"
   ]
  },
  {
   "cell_type": "code",
   "execution_count": 168,
   "id": "f87294ea-7bcc-488b-8aff-5c9518840748",
   "metadata": {},
   "outputs": [
    {
     "name": "stdout",
     "output_type": "stream",
     "text": [
      "{1, 3, 4, 9, 10, 12}\n"
     ]
    },
    {
     "data": {
      "text/plain": [
       "set"
      ]
     },
     "execution_count": 168,
     "metadata": {},
     "output_type": "execute_result"
    }
   ],
   "source": [
    "b = set({1, 3, 9, 4, 10, 12})\n",
    "print(b)\n",
    "type(b)"
   ]
  },
  {
   "cell_type": "code",
   "execution_count": 169,
   "id": "4e8d2d39-5306-4911-8fd2-476364e2e6e2",
   "metadata": {},
   "outputs": [
    {
     "name": "stdout",
     "output_type": "stream",
     "text": [
      "{1, 3, 4}\n",
      "{1, 2, 3, 4, 5, 6, 7, 8}\n"
     ]
    }
   ],
   "source": [
    "z = a.intersection(b)\n",
    "print(z)\n",
    "print(a)"
   ]
  },
  {
   "cell_type": "code",
   "execution_count": 170,
   "id": "1b518732-c6f5-46b3-b43a-1489e6f4f7b4",
   "metadata": {},
   "outputs": [
    {
     "name": "stdout",
     "output_type": "stream",
     "text": [
      "{1, 2, 3, 4, 5, 6, 7, 8, 9, 10, 12}\n"
     ]
    }
   ],
   "source": [
    "z = a.union(b)\n",
    "print(z)"
   ]
  },
  {
   "cell_type": "code",
   "execution_count": 171,
   "id": "e82df67c-a6a3-434c-a32c-e2fd70ed8648",
   "metadata": {},
   "outputs": [
    {
     "name": "stdout",
     "output_type": "stream",
     "text": [
      "{2, 5, 6, 7, 8}\n"
     ]
    }
   ],
   "source": [
    "print(a - b)"
   ]
  },
  {
   "cell_type": "code",
   "execution_count": 173,
   "id": "f571ff6a-6a21-4de0-b5ba-477e22e5c0a6",
   "metadata": {},
   "outputs": [
    {
     "name": "stdout",
     "output_type": "stream",
     "text": [
      "1, 2, 3, 4, 5, 6, 7, 8, "
     ]
    }
   ],
   "source": [
    "for i in a:\n",
    "    print(i, end=\", \")"
   ]
  },
  {
   "cell_type": "code",
   "execution_count": 174,
   "id": "5085380d-351e-4654-85dc-173e1b133e8e",
   "metadata": {},
   "outputs": [
    {
     "data": {
      "text/plain": [
       "8"
      ]
     },
     "execution_count": 174,
     "metadata": {},
     "output_type": "execute_result"
    }
   ],
   "source": [
    "len(a)"
   ]
  },
  {
   "cell_type": "code",
   "execution_count": 176,
   "id": "923964b6-0708-4f88-a668-8efc5e866e9d",
   "metadata": {},
   "outputs": [
    {
     "data": {
      "text/plain": [
       "3"
      ]
     },
     "execution_count": 176,
     "metadata": {},
     "output_type": "execute_result"
    }
   ],
   "source": [
    "z = set([1, 2, 2, 3, 3, 3, 3, 2, 2])\n",
    "len(z)"
   ]
  },
  {
   "cell_type": "code",
   "execution_count": 177,
   "id": "267598db-0630-4008-b763-75dd3e5f974b",
   "metadata": {},
   "outputs": [
    {
     "name": "stdout",
     "output_type": "stream",
     "text": [
      "{1, 2}\n"
     ]
    }
   ],
   "source": [
    "z.remove(3)\n",
    "print(z)"
   ]
  },
  {
   "cell_type": "code",
   "execution_count": 178,
   "id": "ab4101bf-546a-410e-b829-fa04b679cdf5",
   "metadata": {},
   "outputs": [
    {
     "name": "stdout",
     "output_type": "stream",
     "text": [
      "set()\n"
     ]
    }
   ],
   "source": [
    "z.clear()\n",
    "print(z)"
   ]
  },
  {
   "cell_type": "code",
   "execution_count": null,
   "id": "0f8bbf45-1864-4e10-9126-c0a8e705d24c",
   "metadata": {},
   "outputs": [],
   "source": []
  }
 ],
 "metadata": {
  "kernelspec": {
   "display_name": "Python 3 (ipykernel)",
   "language": "python",
   "name": "python3"
  },
  "language_info": {
   "codemirror_mode": {
    "name": "ipython",
    "version": 3
   },
   "file_extension": ".py",
   "mimetype": "text/x-python",
   "name": "python",
   "nbconvert_exporter": "python",
   "pygments_lexer": "ipython3",
   "version": "3.11.3"
  }
 },
 "nbformat": 4,
 "nbformat_minor": 5
}
