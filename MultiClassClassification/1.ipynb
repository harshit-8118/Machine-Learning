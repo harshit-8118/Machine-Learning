{
 "cells": [
  {
   "cell_type": "code",
   "execution_count": 2,
   "id": "d70c011e-73ac-46ca-a911-1e2f236f5408",
   "metadata": {},
   "outputs": [],
   "source": [
    "import numpy as np\n",
    "import pandas as pd\n",
    "import matplotlib.pyplot as plt\n",
    "from pathlib import Path"
   ]
  },
  {
   "cell_type": "code",
   "execution_count": 3,
   "id": "2ed999e6-f45a-46f5-8678-7b5bd3850ffa",
   "metadata": {},
   "outputs": [
    {
     "name": "stdout",
     "output_type": "stream",
     "text": [
      "WARNING:tensorflow:From C:\\Users\\hhars\\AppData\\Local\\Programs\\Python\\Python311\\Lib\\site-packages\\keras\\src\\losses.py:2976: The name tf.losses.sparse_softmax_cross_entropy is deprecated. Please use tf.compat.v1.losses.sparse_softmax_cross_entropy instead.\n",
      "\n"
     ]
    }
   ],
   "source": [
    "from keras.preprocessing import image"
   ]
  },
  {
   "cell_type": "code",
   "execution_count": 4,
   "id": "4402e34f-7fdf-4bc1-8b2d-d7600300ae82",
   "metadata": {},
   "outputs": [],
   "source": [
    "dfTrainY = pd.read_csv('Train/train.csv')"
   ]
  },
  {
   "cell_type": "code",
   "execution_count": 26,
   "id": "384db10c-4a61-477c-8653-7a9b247a39b4",
   "metadata": {},
   "outputs": [],
   "source": [
    "label_dict = {'Pikachu': 0, 'Charmander': 1, 'Bulbasaur': 2}"
   ]
  },
  {
   "cell_type": "code",
   "execution_count": 5,
   "id": "540c20e3-b2bd-4e09-8449-8432803807f4",
   "metadata": {},
   "outputs": [
    {
     "data": {
      "text/html": [
       "<div>\n",
       "<style scoped>\n",
       "    .dataframe tbody tr th:only-of-type {\n",
       "        vertical-align: middle;\n",
       "    }\n",
       "\n",
       "    .dataframe tbody tr th {\n",
       "        vertical-align: top;\n",
       "    }\n",
       "\n",
       "    .dataframe thead th {\n",
       "        text-align: right;\n",
       "    }\n",
       "</style>\n",
       "<table border=\"1\" class=\"dataframe\">\n",
       "  <thead>\n",
       "    <tr style=\"text-align: right;\">\n",
       "      <th></th>\n",
       "      <th>ImageId</th>\n",
       "      <th>NameOfPokemon</th>\n",
       "    </tr>\n",
       "  </thead>\n",
       "  <tbody>\n",
       "    <tr>\n",
       "      <th>0</th>\n",
       "      <td>296.jpg</td>\n",
       "      <td>Pikachu</td>\n",
       "    </tr>\n",
       "    <tr>\n",
       "      <th>1</th>\n",
       "      <td>297.jpg</td>\n",
       "      <td>Pikachu</td>\n",
       "    </tr>\n",
       "    <tr>\n",
       "      <th>2</th>\n",
       "      <td>298.jpg</td>\n",
       "      <td>Pikachu</td>\n",
       "    </tr>\n",
       "    <tr>\n",
       "      <th>3</th>\n",
       "      <td>299.jpg</td>\n",
       "      <td>Pikachu</td>\n",
       "    </tr>\n",
       "    <tr>\n",
       "      <th>4</th>\n",
       "      <td>300.jpg</td>\n",
       "      <td>Pikachu</td>\n",
       "    </tr>\n",
       "  </tbody>\n",
       "</table>\n",
       "</div>"
      ],
      "text/plain": [
       "   ImageId NameOfPokemon\n",
       "0  296.jpg       Pikachu\n",
       "1  297.jpg       Pikachu\n",
       "2  298.jpg       Pikachu\n",
       "3  299.jpg       Pikachu\n",
       "4  300.jpg       Pikachu"
      ]
     },
     "execution_count": 5,
     "metadata": {},
     "output_type": "execute_result"
    }
   ],
   "source": [
    "dfTrainY.head()"
   ]
  },
  {
   "cell_type": "code",
   "execution_count": 6,
   "id": "3c38ff9b-0138-4eb4-99bb-c2371222064b",
   "metadata": {},
   "outputs": [],
   "source": [
    "p = Path('../../Scripts/MultiClassClassification/Train/Images/')"
   ]
  },
  {
   "cell_type": "code",
   "execution_count": 17,
   "id": "59466499-2093-4d1e-b8cb-f6dd48d94ed9",
   "metadata": {},
   "outputs": [
    {
     "name": "stderr",
     "output_type": "stream",
     "text": [
      "C:\\Users\\hhars\\AppData\\Local\\Programs\\Python\\Python311\\Lib\\site-packages\\PIL\\Image.py:970: UserWarning: Palette images with Transparency expressed in bytes should be converted to RGBA images\n",
      "  warnings.warn(\n"
     ]
    }
   ],
   "source": [
    "ls = p.glob(\"*.jpg\")\n",
    "image_data = []\n",
    "for img_path in ls:\n",
    "    img = image.load_img(img_path, target_size=((32, 32)))\n",
    "    img_arr = image.img_to_array(img)\n",
    "    image_data.append(img_arr)"
   ]
  },
  {
   "cell_type": "code",
   "execution_count": 18,
   "id": "ca2375ba-d730-4904-944c-0c4ec41c288c",
   "metadata": {},
   "outputs": [],
   "source": [
    "image_data = np.asarray(image_data, dtype='float32')/255.0"
   ]
  },
  {
   "cell_type": "code",
   "execution_count": 19,
   "id": "a5ade266-0ae8-469c-b397-14e663d1b796",
   "metadata": {},
   "outputs": [
    {
     "data": {
      "text/plain": [
       "array([[[[0.57254905, 0.7490196 , 0.9098039 ],\n",
       "         [0.5803922 , 0.7490196 , 0.9137255 ],\n",
       "         [0.58431375, 0.75686276, 0.9098039 ],\n",
       "         ...,\n",
       "         [0.6039216 , 0.76862746, 0.91764706],\n",
       "         [0.59607846, 0.76862746, 0.9137255 ],\n",
       "         [0.5882353 , 0.75686276, 0.92156863]],\n",
       "\n",
       "        [[0.58431375, 0.75686276, 0.9098039 ],\n",
       "         [0.59607846, 0.76862746, 0.92156863],\n",
       "         [0.59607846, 0.76862746, 0.9137255 ],\n",
       "         ...,\n",
       "         [0.62352943, 0.78039217, 0.92156863],\n",
       "         [0.6039216 , 0.77254903, 0.9098039 ],\n",
       "         [0.59607846, 0.76862746, 0.9137255 ]],\n",
       "\n",
       "        [[0.58431375, 0.7529412 , 0.91764706],\n",
       "         [0.5882353 , 0.7607843 , 0.9137255 ],\n",
       "         [0.59607846, 0.76862746, 0.9137255 ],\n",
       "         ...,\n",
       "         [0.627451  , 0.78431374, 0.92156863],\n",
       "         [0.6117647 , 0.78039217, 0.91764706],\n",
       "         [0.59607846, 0.76862746, 0.9137255 ]],\n",
       "\n",
       "        ...,\n",
       "\n",
       "        [[0.32156864, 0.5568628 , 0.83137256],\n",
       "         [0.30980393, 0.54509807, 0.827451  ],\n",
       "         [0.30980393, 0.5372549 , 0.8235294 ],\n",
       "         ...,\n",
       "         [0.2901961 , 0.52156866, 0.81960785],\n",
       "         [0.2901961 , 0.52156866, 0.81960785],\n",
       "         [0.2901961 , 0.52156866, 0.81960785]],\n",
       "\n",
       "        [[0.32156864, 0.54901963, 0.8352941 ],\n",
       "         [0.30980393, 0.5372549 , 0.827451  ],\n",
       "         [0.29803923, 0.53333336, 0.81960785],\n",
       "         ...,\n",
       "         [0.2901961 , 0.52156866, 0.81960785],\n",
       "         [0.2901961 , 0.52156866, 0.81960785],\n",
       "         [0.2901961 , 0.52156866, 0.81960785]],\n",
       "\n",
       "        [[0.3137255 , 0.54901963, 0.83137256],\n",
       "         [0.30588236, 0.5411765 , 0.827451  ],\n",
       "         [0.29803923, 0.53333336, 0.81960785],\n",
       "         ...,\n",
       "         [0.29803923, 0.53333336, 0.81960785],\n",
       "         [0.3019608 , 0.5372549 , 0.8235294 ],\n",
       "         [0.30588236, 0.53333336, 0.8235294 ]]],\n",
       "\n",
       "\n",
       "       [[[1.        , 1.        , 1.        ],\n",
       "         [1.        , 1.        , 1.        ],\n",
       "         [1.        , 1.        , 1.        ],\n",
       "         ...,\n",
       "         [1.        , 1.        , 1.        ],\n",
       "         [1.        , 1.        , 1.        ],\n",
       "         [1.        , 1.        , 1.        ]],\n",
       "\n",
       "        [[1.        , 1.        , 1.        ],\n",
       "         [1.        , 1.        , 1.        ],\n",
       "         [1.        , 1.        , 1.        ],\n",
       "         ...,\n",
       "         [1.        , 1.        , 1.        ],\n",
       "         [1.        , 1.        , 1.        ],\n",
       "         [1.        , 1.        , 1.        ]],\n",
       "\n",
       "        [[1.        , 1.        , 1.        ],\n",
       "         [0.        , 0.        , 0.        ],\n",
       "         [0.        , 0.        , 0.        ],\n",
       "         ...,\n",
       "         [1.        , 1.        , 1.        ],\n",
       "         [1.        , 1.        , 1.        ],\n",
       "         [1.        , 1.        , 1.        ]],\n",
       "\n",
       "        ...,\n",
       "\n",
       "        [[1.        , 1.        , 1.        ],\n",
       "         [1.        , 1.        , 1.        ],\n",
       "         [1.        , 1.        , 1.        ],\n",
       "         ...,\n",
       "         [1.        , 1.        , 1.        ],\n",
       "         [1.        , 1.        , 1.        ],\n",
       "         [1.        , 1.        , 1.        ]],\n",
       "\n",
       "        [[1.        , 1.        , 1.        ],\n",
       "         [1.        , 1.        , 1.        ],\n",
       "         [0.98039216, 0.8392157 , 0.12156863],\n",
       "         ...,\n",
       "         [1.        , 1.        , 1.        ],\n",
       "         [1.        , 1.        , 1.        ],\n",
       "         [1.        , 1.        , 1.        ]],\n",
       "\n",
       "        [[1.        , 1.        , 1.        ],\n",
       "         [1.        , 1.        , 1.        ],\n",
       "         [1.        , 1.        , 1.        ],\n",
       "         ...,\n",
       "         [1.        , 1.        , 1.        ],\n",
       "         [1.        , 1.        , 1.        ],\n",
       "         [1.        , 1.        , 1.        ]]],\n",
       "\n",
       "\n",
       "       [[[1.        , 1.        , 1.        ],\n",
       "         [1.        , 1.        , 1.        ],\n",
       "         [1.        , 1.        , 1.        ],\n",
       "         ...,\n",
       "         [1.        , 1.        , 1.        ],\n",
       "         [1.        , 1.        , 1.        ],\n",
       "         [1.        , 1.        , 1.        ]],\n",
       "\n",
       "        [[1.        , 1.        , 1.        ],\n",
       "         [1.        , 1.        , 1.        ],\n",
       "         [1.        , 1.        , 1.        ],\n",
       "         ...,\n",
       "         [1.        , 1.        , 1.        ],\n",
       "         [1.        , 1.        , 1.        ],\n",
       "         [1.        , 1.        , 1.        ]],\n",
       "\n",
       "        [[1.        , 1.        , 1.        ],\n",
       "         [1.        , 1.        , 1.        ],\n",
       "         [1.        , 1.        , 1.        ],\n",
       "         ...,\n",
       "         [1.        , 1.        , 1.        ],\n",
       "         [1.        , 1.        , 1.        ],\n",
       "         [1.        , 1.        , 1.        ]],\n",
       "\n",
       "        ...,\n",
       "\n",
       "        [[0.99607843, 0.99607843, 0.99607843],\n",
       "         [0.99607843, 0.99607843, 0.99607843],\n",
       "         [0.972549  , 0.972549  , 0.972549  ],\n",
       "         ...,\n",
       "         [1.        , 1.        , 1.        ],\n",
       "         [1.        , 1.        , 1.        ],\n",
       "         [1.        , 1.        , 1.        ]],\n",
       "\n",
       "        [[1.        , 1.        , 1.        ],\n",
       "         [0.99607843, 0.99607843, 0.99607843],\n",
       "         [0.99215686, 0.99215686, 0.99215686],\n",
       "         ...,\n",
       "         [1.        , 1.        , 1.        ],\n",
       "         [1.        , 1.        , 1.        ],\n",
       "         [1.        , 1.        , 1.        ]],\n",
       "\n",
       "        [[1.        , 1.        , 1.        ],\n",
       "         [1.        , 1.        , 1.        ],\n",
       "         [1.        , 1.        , 1.        ],\n",
       "         ...,\n",
       "         [1.        , 1.        , 1.        ],\n",
       "         [1.        , 1.        , 1.        ],\n",
       "         [1.        , 1.        , 1.        ]]],\n",
       "\n",
       "\n",
       "       ...,\n",
       "\n",
       "\n",
       "       [[[0.        , 0.        , 0.        ],\n",
       "         [0.        , 0.        , 0.        ],\n",
       "         [0.        , 0.        , 0.        ],\n",
       "         ...,\n",
       "         [0.        , 0.        , 0.        ],\n",
       "         [0.        , 0.        , 0.        ],\n",
       "         [0.        , 0.        , 0.        ]],\n",
       "\n",
       "        [[0.        , 0.        , 0.        ],\n",
       "         [0.        , 0.        , 0.        ],\n",
       "         [0.        , 0.        , 0.        ],\n",
       "         ...,\n",
       "         [0.        , 0.        , 0.        ],\n",
       "         [0.        , 0.        , 0.        ],\n",
       "         [0.        , 0.        , 0.        ]],\n",
       "\n",
       "        [[0.        , 0.        , 0.        ],\n",
       "         [0.        , 0.        , 0.        ],\n",
       "         [0.        , 0.        , 0.        ],\n",
       "         ...,\n",
       "         [0.        , 0.        , 0.        ],\n",
       "         [0.        , 0.        , 0.        ],\n",
       "         [0.        , 0.        , 0.        ]],\n",
       "\n",
       "        ...,\n",
       "\n",
       "        [[0.        , 0.        , 0.        ],\n",
       "         [0.        , 0.        , 0.        ],\n",
       "         [0.        , 0.        , 0.        ],\n",
       "         ...,\n",
       "         [0.        , 0.        , 0.        ],\n",
       "         [0.        , 0.        , 0.        ],\n",
       "         [0.        , 0.        , 0.        ]],\n",
       "\n",
       "        [[0.        , 0.        , 0.        ],\n",
       "         [0.        , 0.        , 0.        ],\n",
       "         [0.        , 0.        , 0.        ],\n",
       "         ...,\n",
       "         [0.        , 0.        , 0.        ],\n",
       "         [0.        , 0.        , 0.        ],\n",
       "         [0.        , 0.        , 0.        ]],\n",
       "\n",
       "        [[0.        , 0.        , 0.        ],\n",
       "         [0.        , 0.        , 0.        ],\n",
       "         [0.        , 0.        , 0.        ],\n",
       "         ...,\n",
       "         [0.        , 0.        , 0.        ],\n",
       "         [0.        , 0.        , 0.        ],\n",
       "         [0.        , 0.        , 0.        ]]],\n",
       "\n",
       "\n",
       "       [[[1.        , 1.        , 1.        ],\n",
       "         [1.        , 1.        , 1.        ],\n",
       "         [1.        , 1.        , 1.        ],\n",
       "         ...,\n",
       "         [1.        , 1.        , 1.        ],\n",
       "         [1.        , 1.        , 1.        ],\n",
       "         [1.        , 1.        , 1.        ]],\n",
       "\n",
       "        [[1.        , 1.        , 1.        ],\n",
       "         [1.        , 1.        , 1.        ],\n",
       "         [1.        , 1.        , 1.        ],\n",
       "         ...,\n",
       "         [1.        , 1.        , 1.        ],\n",
       "         [1.        , 1.        , 1.        ],\n",
       "         [1.        , 1.        , 1.        ]],\n",
       "\n",
       "        [[1.        , 1.        , 1.        ],\n",
       "         [1.        , 1.        , 1.        ],\n",
       "         [1.        , 1.        , 1.        ],\n",
       "         ...,\n",
       "         [1.        , 1.        , 1.        ],\n",
       "         [1.        , 1.        , 1.        ],\n",
       "         [1.        , 1.        , 1.        ]],\n",
       "\n",
       "        ...,\n",
       "\n",
       "        [[1.        , 1.        , 1.        ],\n",
       "         [1.        , 1.        , 1.        ],\n",
       "         [1.        , 1.        , 1.        ],\n",
       "         ...,\n",
       "         [1.        , 1.        , 1.        ],\n",
       "         [1.        , 1.        , 1.        ],\n",
       "         [1.        , 1.        , 1.        ]],\n",
       "\n",
       "        [[1.        , 1.        , 1.        ],\n",
       "         [1.        , 1.        , 1.        ],\n",
       "         [1.        , 1.        , 1.        ],\n",
       "         ...,\n",
       "         [1.        , 1.        , 1.        ],\n",
       "         [1.        , 1.        , 1.        ],\n",
       "         [1.        , 1.        , 1.        ]],\n",
       "\n",
       "        [[1.        , 1.        , 1.        ],\n",
       "         [1.        , 1.        , 1.        ],\n",
       "         [1.        , 1.        , 1.        ],\n",
       "         ...,\n",
       "         [1.        , 1.        , 1.        ],\n",
       "         [1.        , 1.        , 1.        ],\n",
       "         [1.        , 1.        , 1.        ]]],\n",
       "\n",
       "\n",
       "       [[[1.        , 1.        , 1.        ],\n",
       "         [1.        , 1.        , 1.        ],\n",
       "         [1.        , 1.        , 1.        ],\n",
       "         ...,\n",
       "         [1.        , 1.        , 1.        ],\n",
       "         [1.        , 1.        , 1.        ],\n",
       "         [1.        , 1.        , 1.        ]],\n",
       "\n",
       "        [[1.        , 1.        , 1.        ],\n",
       "         [1.        , 1.        , 1.        ],\n",
       "         [1.        , 1.        , 1.        ],\n",
       "         ...,\n",
       "         [1.        , 1.        , 1.        ],\n",
       "         [1.        , 1.        , 1.        ],\n",
       "         [1.        , 1.        , 1.        ]],\n",
       "\n",
       "        [[1.        , 1.        , 1.        ],\n",
       "         [1.        , 1.        , 1.        ],\n",
       "         [1.        , 1.        , 1.        ],\n",
       "         ...,\n",
       "         [1.        , 1.        , 1.        ],\n",
       "         [1.        , 1.        , 1.        ],\n",
       "         [1.        , 1.        , 1.        ]],\n",
       "\n",
       "        ...,\n",
       "\n",
       "        [[1.        , 1.        , 1.        ],\n",
       "         [1.        , 1.        , 1.        ],\n",
       "         [1.        , 1.        , 1.        ],\n",
       "         ...,\n",
       "         [1.        , 1.        , 1.        ],\n",
       "         [1.        , 1.        , 1.        ],\n",
       "         [1.        , 1.        , 1.        ]],\n",
       "\n",
       "        [[1.        , 1.        , 1.        ],\n",
       "         [1.        , 1.        , 1.        ],\n",
       "         [1.        , 1.        , 1.        ],\n",
       "         ...,\n",
       "         [1.        , 1.        , 1.        ],\n",
       "         [1.        , 1.        , 1.        ],\n",
       "         [1.        , 1.        , 1.        ]],\n",
       "\n",
       "        [[1.        , 1.        , 1.        ],\n",
       "         [1.        , 1.        , 1.        ],\n",
       "         [1.        , 1.        , 1.        ],\n",
       "         ...,\n",
       "         [1.        , 1.        , 1.        ],\n",
       "         [1.        , 1.        , 1.        ],\n",
       "         [0.25490198, 0.25882354, 0.27450982]]]], dtype=float32)"
      ]
     },
     "execution_count": 19,
     "metadata": {},
     "output_type": "execute_result"
    }
   ],
   "source": [
    "image_data"
   ]
  },
  {
   "cell_type": "code",
   "execution_count": 20,
   "id": "2072b258-e799-4a60-8aa4-877949f7635b",
   "metadata": {},
   "outputs": [],
   "source": [
    "m = image_data.shape[0]\n",
    "image_data = image_data.reshape((m,-1))"
   ]
  },
  {
   "cell_type": "code",
   "execution_count": 21,
   "id": "2a1fe56a-0323-4d09-99e1-53338f0a6fe5",
   "metadata": {},
   "outputs": [
    {
     "data": {
      "text/plain": [
       "(304, 3072)"
      ]
     },
     "execution_count": 21,
     "metadata": {},
     "output_type": "execute_result"
    }
   ],
   "source": [
    "image_data.shape"
   ]
  },
  {
   "cell_type": "code",
   "execution_count": 22,
   "id": "0637f2b6-5595-4fb9-bb17-36c2ea919056",
   "metadata": {},
   "outputs": [
    {
     "data": {
      "text/plain": [
       "<matplotlib.image.AxesImage at 0x198b29f6510>"
      ]
     },
     "execution_count": 22,
     "metadata": {},
     "output_type": "execute_result"
    },
    {
     "data": {
      "image/png": "[encoded data removed]",
      "text/plain": [
       "<Figure size 640x480 with 1 Axes>"
      ]
     },
     "metadata": {},
     "output_type": "display_data"
    }
   ],
   "source": [
    "plt.imshow(image_data[0].reshape((32, 32, -1)))"
   ]
  },
  {
   "cell_type": "code",
   "execution_count": 23,
   "id": "91083d16-4787-4770-b12c-9c249dfdcfd0",
   "metadata": {},
   "outputs": [
    {
     "data": {
      "text/plain": [
       "(array(['Bulbasaur', 'Charmander', 'Pikachu'], dtype=object),\n",
       " array([101, 102, 101], dtype=int64))"
      ]
     },
     "execution_count": 23,
     "metadata": {},
     "output_type": "execute_result"
    }
   ],
   "source": [
    "np.unique(dfTrainY.iloc[:, 1], return_counts=True)"
   ]
  },
  {
   "cell_type": "code",
   "execution_count": 25,
   "id": "62f5d9ec-a51a-4ef7-9ee9-989244f22427",
   "metadata": {},
   "outputs": [
    {
     "data": {
      "text/html": [
       "<div>\n",
       "<style scoped>\n",
       "    .dataframe tbody tr th:only-of-type {\n",
       "        vertical-align: middle;\n",
       "    }\n",
       "\n",
       "    .dataframe tbody tr th {\n",
       "        vertical-align: top;\n",
       "    }\n",
       "\n",
       "    .dataframe thead th {\n",
       "        text-align: right;\n",
       "    }\n",
       "</style>\n",
       "<table border=\"1\" class=\"dataframe\">\n",
       "  <thead>\n",
       "    <tr style=\"text-align: right;\">\n",
       "      <th></th>\n",
       "      <th>ImageId</th>\n",
       "      <th>NameOfPokemon</th>\n",
       "    </tr>\n",
       "  </thead>\n",
       "  <tbody>\n",
       "    <tr>\n",
       "      <th>0</th>\n",
       "      <td>296.jpg</td>\n",
       "      <td>Pikachu</td>\n",
       "    </tr>\n",
       "    <tr>\n",
       "      <th>1</th>\n",
       "      <td>297.jpg</td>\n",
       "      <td>Pikachu</td>\n",
       "    </tr>\n",
       "    <tr>\n",
       "      <th>2</th>\n",
       "      <td>298.jpg</td>\n",
       "      <td>Pikachu</td>\n",
       "    </tr>\n",
       "    <tr>\n",
       "      <th>3</th>\n",
       "      <td>299.jpg</td>\n",
       "      <td>Pikachu</td>\n",
       "    </tr>\n",
       "    <tr>\n",
       "      <th>4</th>\n",
       "      <td>300.jpg</td>\n",
       "      <td>Pikachu</td>\n",
       "    </tr>\n",
       "    <tr>\n",
       "      <th>...</th>\n",
       "      <td>...</td>\n",
       "      <td>...</td>\n",
       "    </tr>\n",
       "    <tr>\n",
       "      <th>299</th>\n",
       "      <td>616.jpg</td>\n",
       "      <td>Charmander</td>\n",
       "    </tr>\n",
       "    <tr>\n",
       "      <th>300</th>\n",
       "      <td>617.jpg</td>\n",
       "      <td>Charmander</td>\n",
       "    </tr>\n",
       "    <tr>\n",
       "      <th>301</th>\n",
       "      <td>618.jpg</td>\n",
       "      <td>Charmander</td>\n",
       "    </tr>\n",
       "    <tr>\n",
       "      <th>302</th>\n",
       "      <td>619.jpg</td>\n",
       "      <td>Charmander</td>\n",
       "    </tr>\n",
       "    <tr>\n",
       "      <th>303</th>\n",
       "      <td>620.jpg</td>\n",
       "      <td>Charmander</td>\n",
       "    </tr>\n",
       "  </tbody>\n",
       "</table>\n",
       "<p>304 rows × 2 columns</p>\n",
       "</div>"
      ],
      "text/plain": [
       "     ImageId NameOfPokemon\n",
       "0    296.jpg       Pikachu\n",
       "1    297.jpg       Pikachu\n",
       "2    298.jpg       Pikachu\n",
       "3    299.jpg       Pikachu\n",
       "4    300.jpg       Pikachu\n",
       "..       ...           ...\n",
       "299  616.jpg    Charmander\n",
       "300  617.jpg    Charmander\n",
       "301  618.jpg    Charmander\n",
       "302  619.jpg    Charmander\n",
       "303  620.jpg    Charmander\n",
       "\n",
       "[304 rows x 2 columns]"
      ]
     },
     "execution_count": 25,
     "metadata": {},
     "output_type": "execute_result"
    }
   ],
   "source": [
    "dfTrainY"
   ]
  },
  {
   "cell_type": "code",
   "execution_count": 27,
   "id": "c8d5a7d4-3977-4551-a295-a4a92bb4e25f",
   "metadata": {},
   "outputs": [],
   "source": [
    "dataTrainY = dfTrainY.values"
   ]
  },
  {
   "cell_type": "code",
   "execution_count": 30,
   "id": "63801ad2-9a59-4134-b70c-d57cd73f04ad",
   "metadata": {},
   "outputs": [],
   "source": [
    "trainY = [label_dict[w] for w in dataTrainY[:,1]]"
   ]
  },
  {
   "cell_type": "code",
   "execution_count": 37,
   "id": "e1f6dcf3-dd19-4241-9d49-604599d79ced",
   "metadata": {},
   "outputs": [
    {
     "data": {
      "text/plain": [
       "array([0, 0, 0, 0, 0, 0, 0, 0, 0, 0, 0, 0, 0, 0, 0, 0, 0, 0, 0, 0, 0, 0,\n",
       "       0, 0, 0, 0, 0, 0, 0, 0, 0, 0, 0, 0, 0, 0, 0, 0, 0, 0, 0, 0, 0, 0,\n",
       "       0, 0, 0, 0, 0, 0, 0, 0, 0, 0, 0, 0, 0, 0, 0, 0, 0, 0, 0, 0, 0, 0,\n",
       "       0, 0, 0, 0, 0, 0, 0, 0, 0, 0, 0, 0, 0, 0, 0, 0, 0, 0, 0, 0, 0, 0,\n",
       "       0, 0, 0, 0, 0, 0, 0, 0, 0, 0, 0, 0, 0, 2, 2, 2, 2, 2, 2, 2, 2, 2,\n",
       "       2, 2, 2, 2, 2, 2, 2, 2, 2, 2, 2, 2, 2, 2, 2, 2, 2, 2, 2, 2, 2, 2,\n",
       "       2, 2, 2, 2, 2, 2, 2, 2, 2, 2, 2, 2, 2, 2, 2, 2, 2, 2, 2, 2, 2, 2,\n",
       "       2, 2, 2, 2, 2, 2, 2, 2, 2, 2, 2, 2, 2, 2, 2, 2, 2, 2, 2, 2, 2, 2,\n",
       "       2, 2, 2, 2, 2, 2, 2, 2, 2, 2, 2, 2, 2, 2, 2, 2, 2, 2, 2, 2, 2, 2,\n",
       "       2, 2, 2, 2, 1, 1, 1, 1, 1, 1, 1, 1, 1, 1, 1, 1, 1, 1, 1, 1, 1, 1,\n",
       "       1, 1, 1, 1, 1, 1, 1, 1, 1, 1, 1, 1, 1, 1, 1, 1, 1, 1, 1, 1, 1, 1,\n",
       "       1, 1, 1, 1, 1, 1, 1, 1, 1, 1, 1, 1, 1, 1, 1, 1, 1, 1, 1, 1, 1, 1,\n",
       "       1, 1, 1, 1, 1, 1, 1, 1, 1, 1, 1, 1, 1, 1, 1, 1, 1, 1, 1, 1, 1, 1,\n",
       "       1, 1, 1, 1, 1, 1, 1, 1, 1, 1, 1, 1, 1, 1, 1, 1, 1, 1])"
      ]
     },
     "execution_count": 37,
     "metadata": {},
     "output_type": "execute_result"
    }
   ],
   "source": [
    "trainY = np.asarray(trainY)\n",
    "trainY"
   ]
  },
  {
   "cell_type": "code",
   "execution_count": 33,
   "id": "872683b6-53d9-420b-a505-ffa76a17e576",
   "metadata": {},
   "outputs": [
    {
     "data": {
      "text/plain": [
       "(304, 3072)"
      ]
     },
     "execution_count": 33,
     "metadata": {},
     "output_type": "execute_result"
    }
   ],
   "source": [
    "image_data.shape"
   ]
  },
  {
   "cell_type": "code",
   "execution_count": 40,
   "id": "6e35a7ea-838e-4c44-9a1c-0c5b32115967",
   "metadata": {},
   "outputs": [],
   "source": [
    "import random\n",
    "combined = list(zip(image_data, trainY))\n",
    "random.shuffle(combined)\n",
    "image_data[:], trainY[:] = zip(*combined)"
   ]
  },
  {
   "cell_type": "code",
   "execution_count": 59,
   "id": "1f18c293-b00f-42c8-ae89-63221125fad8",
   "metadata": {},
   "outputs": [],
   "source": [
    "class SVM:\n",
    "    def __init__(self, c=1.0):\n",
    "        self.c = c\n",
    "        self.w = 0\n",
    "        self.b = 0\n",
    "\n",
    "    def hingeLoss(self, X, Y, w, b):\n",
    "        err = 0.5 * np.dot(w, w.T)\n",
    "        for i in range(X.shape[0]):\n",
    "            ti = Y[i] * (np.dot(X[i], w) + b)\n",
    "            err += self.c * max(0, 1 - ti)\n",
    "        return err\n",
    "\n",
    "    def fit(self, X, Y, alpha=0.001, maxIters=300, batch_size=100):\n",
    "        m, n = X.shape[0], X.shape[1]\n",
    "        w = np.zeros(n)\n",
    "        b = 0\n",
    "        c = self.c\n",
    "        losses = []\n",
    "        for i in range(maxIters):\n",
    "            ids = np.arange(m)\n",
    "            np.random.shuffle(ids)\n",
    "            loss = self.hingeLoss(X, Y, w, b)\n",
    "            losses.append(loss)\n",
    "            for b in range(0, m, batch_size):\n",
    "                gradw = 0\n",
    "                gradb = 0\n",
    "                for j in range(b, b + batch_size):\n",
    "                    if j < m:\n",
    "                        k = ids[j]\n",
    "                        ti = Y[k] * (np.dot(X[k], w) + b)\n",
    "                        if ti < 1:\n",
    "                            gradw += c * Y[k] * X[k]\n",
    "                            gradb += c * Y[k]\n",
    "\n",
    "                w = w - alpha * w + alpha * gradw\n",
    "                b = b + alpha * gradb\n",
    "        self.b = b\n",
    "        self.w = w\n",
    "        return self.b, self.w, losses\n",
    "                        "
   ]
  },
  {
   "cell_type": "code",
   "execution_count": 64,
   "id": "c1a65b7e-7529-4007-8337-103dfda20d74",
   "metadata": {},
   "outputs": [],
   "source": [
    "svm = SVM()\n",
    "b, w, losses = svm.fit(image_data, trainY, maxIters=1000, alpha=0.0001, batch_size=200)"
   ]
  },
  {
   "cell_type": "code",
   "execution_count": 65,
   "id": "efdaf836-34db-4eca-bb42-3f8aee8eb3b1",
   "metadata": {},
   "outputs": [
    {
     "data": {
      "text/plain": [
       "[<matplotlib.lines.Line2D at 0x198b5940ad0>]"
      ]
     },
     "execution_count": 65,
     "metadata": {},
     "output_type": "execute_result"
    },
    {
     "data": {
      "image/png": "[encoded data removed]",
      "text/plain": [
       "<Figure size 640x480 with 1 Axes>"
      ]
     },
     "metadata": {},
     "output_type": "display_data"
    }
   ],
   "source": [
    "plt.plot(losses)"
   ]
  },
  {
   "cell_type": "code",
   "execution_count": 73,
   "id": "5dfe56d3-bf14-44c1-beb5-b99d4aedba8c",
   "metadata": {},
   "outputs": [
    {
     "data": {
      "text/plain": [
       "101"
      ]
     },
     "execution_count": 73,
     "metadata": {},
     "output_type": "execute_result"
    }
   ],
   "source": [
    "classes = len(np.unique(trainY))\n",
    "def classWiseData(x, y):\n",
    "    data = {}\n",
    "    for i in range(classes):\n",
    "        data[i] = []\n",
    "\n",
    "    for i in range(x.shape[0]):\n",
    "        data[y[i]].append(x[i])\n",
    "    for k in data.keys():\n",
    "        data[k] = np.array(data[k])\n",
    "    return data\n",
    "\n",
    "data = classWiseData(image_data, trainY)\n",
    "data[2].shape[0]"
   ]
  },
  {
   "cell_type": "code",
   "execution_count": 129,
   "id": "1c894de6-2fd3-4ffb-af4c-78269e6ad8a1",
   "metadata": {},
   "outputs": [],
   "source": [
    "def getPairWiseData(d1, d2):\n",
    "    l1, l2 = d1.shape[0], d2.shape[0]\n",
    "    samples = l1 + l2\n",
    "    features = d1.shape[1]\n",
    "    data_pairs = np.zeros((samples, features))\n",
    "    data_lables = np.zeros((samples,))\n",
    "    data_pairs[:l1] = d1\n",
    "    data_pairs[l1:] = d2\n",
    "\n",
    "    data_lables[:l1] = -1\n",
    "    data_lables[l1:] = 1\n",
    "    return data_pairs, data_lables"
   ]
  },
  {
   "cell_type": "code",
   "execution_count": 131,
   "id": "1dcabf59-d94a-4e79-803e-b5d7e261ebe4",
   "metadata": {},
   "outputs": [],
   "source": [
    "cls = len(np.unique(trainY))\n",
    "def trainSVMs(x, y):\n",
    "    svmClassifiers = {}\n",
    "    for i in range(cls):\n",
    "        svmClassifiers[i] = {}\n",
    "        for j in range(i + 1, cls):\n",
    "            nx, ny = getPairWiseData(data[i], data[j])\n",
    "            mysvm = SVM()\n",
    "            b, wt, losses = mysvm.fit(nx, ny, maxIters=4500, alpha=0.0001)\n",
    "            svmClassifiers[i][j] = (b, wt)\n",
    "            plt.plot(losses)\n",
    "            plt.show()\n",
    "    return svmClassifiers"
   ]
  },
  {
   "cell_type": "code",
   "execution_count": 132,
   "id": "0c688a1a-3ace-41f0-86b2-bdead87c5b56",
   "metadata": {},
   "outputs": [
    {
     "data": {
      "image/png": "[encoded data removed]",
      "text/plain": [
       "<Figure size 640x480 with 1 Axes>"
      ]
     },
     "metadata": {},
     "output_type": "display_data"
    },
    {
     "data": {
      "image/png": "[encoded data removed]",
      "text/plain": [
       "<Figure size 640x480 with 1 Axes>"
      ]
     },
     "metadata": {},
     "output_type": "display_data"
    },
    {
     "data": {
      "image/png": "[encoded data removed]",
      "text/plain": [
       "<Figure size 640x480 with 1 Axes>"
      ]
     },
     "metadata": {},
     "output_type": "display_data"
    }
   ],
   "source": [
    "svmClassifiers = trainSVMs(image_data, trainY)"
   ]
  },
  {
   "cell_type": "code",
   "execution_count": 133,
   "id": "155abbbf-6539-4471-85b4-b417d487900a",
   "metadata": {},
   "outputs": [
    {
     "name": "stdout",
     "output_type": "stream",
     "text": [
      "(199.9999, array([-0.05195224, -0.07658289,  0.08646271, ..., -0.10315073,\n",
      "       -0.09781695,  0.12940654]))\n",
      "(200.0, array([-0.06990957, -0.12596441, -0.16821791, ...,  0.1283668 ,\n",
      "        0.11719685, -0.13213379]))\n",
      "(199.9997, array([ 0.13203576,  0.01481748, -0.10304013, ...,  0.15544837,\n",
      "        0.11807291, -0.1553467 ]))\n"
     ]
    }
   ],
   "source": [
    "print(svmClassifiers[0][1])\n",
    "print(svmClassifiers[0][2])\n",
    "print(svmClassifiers[1][2])"
   ]
  },
  {
   "cell_type": "code",
   "execution_count": 134,
   "id": "3bd52ada-2d5d-4064-bff2-889318336f96",
   "metadata": {},
   "outputs": [],
   "source": [
    "def binaryPredict(x, w, b):\n",
    "    z = np.dot(x, w.T) + b\n",
    "    if z > 0: \n",
    "        return 1\n",
    "    return -1"
   ]
  },
  {
   "cell_type": "code",
   "execution_count": 135,
   "id": "31dab88a-b4c7-4320-a1c9-f17928ea8ee3",
   "metadata": {},
   "outputs": [],
   "source": [
    "def predict(x):\n",
    "    count = np.zeros((cls, ))\n",
    "    for i in range(cls):\n",
    "        for j in range(i + 1, cls):\n",
    "            b, w = svmClassifiers[i][j]\n",
    "            z = binaryPredict(x, w, b)\n",
    "            if z == 1:\n",
    "                count[j] += 1\n",
    "            else:\n",
    "                count[i] += 1\n",
    "    return np.argmax(count)"
   ]
  },
  {
   "cell_type": "code",
   "execution_count": 136,
   "id": "f4ebfce5-26aa-442f-9d06-9eb17f69ff62",
   "metadata": {},
   "outputs": [
    {
     "name": "stdout",
     "output_type": "stream",
     "text": [
      "0.33223684210526316\n"
     ]
    }
   ],
   "source": [
    "def score(x, y):\n",
    "    cnt = 0\n",
    "    for i in range(x.shape[0]):\n",
    "        cnt += (y[i] == predict(x[i]))\n",
    "    print(cnt / y.shape[0])\n",
    "score(image_data, trainY)"
   ]
  },
  {
   "cell_type": "code",
   "execution_count": 137,
   "id": "f7159b86-da53-42a6-bd1d-bc612ddd6ab1",
   "metadata": {},
   "outputs": [],
   "source": [
    "from sklearn import svm"
   ]
  },
  {
   "cell_type": "code",
   "execution_count": 138,
   "id": "4a32225f-4460-4e6d-a290-631fc204852d",
   "metadata": {},
   "outputs": [],
   "source": [
    "svm = svm.SVC()"
   ]
  },
  {
   "cell_type": "code",
   "execution_count": 139,
   "id": "17927491-9069-48d5-9cd4-dfc021d94945",
   "metadata": {},
   "outputs": [
    {
     "data": {
      "text/html": [
       "<style>#sk-container-id-2 {color: black;}#sk-container-id-2 pre{padding: 0;}#sk-container-id-2 div.sk-toggleable {background-color: white;}#sk-container-id-2 label.sk-toggleable__label {cursor: pointer;display: block;width: 100%;margin-bottom: 0;padding: 0.3em;box-sizing: border-box;text-align: center;}#sk-container-id-2 label.sk-toggleable__label-arrow:before {content: \"▸\";float: left;margin-right: 0.25em;color: #696969;}#sk-container-id-2 label.sk-toggleable__label-arrow:hover:before {color: black;}#sk-container-id-2 div.sk-estimator:hover label.sk-toggleable__label-arrow:before {color: black;}#sk-container-id-2 div.sk-toggleable__content {max-height: 0;max-width: 0;overflow: hidden;text-align: left;background-color: #f0f8ff;}#sk-container-id-2 div.sk-toggleable__content pre {margin: 0.2em;color: black;border-radius: 0.25em;background-color: #f0f8ff;}#sk-container-id-2 input.sk-toggleable__control:checked~div.sk-toggleable__content {max-height: 200px;max-width: 100%;overflow: auto;}#sk-container-id-2 input.sk-toggleable__control:checked~label.sk-toggleable__label-arrow:before {content: \"▾\";}#sk-container-id-2 div.sk-estimator input.sk-toggleable__control:checked~label.sk-toggleable__label {background-color: #d4ebff;}#sk-container-id-2 div.sk-label input.sk-toggleable__control:checked~label.sk-toggleable__label {background-color: #d4ebff;}#sk-container-id-2 input.sk-hidden--visually {border: 0;clip: rect(1px 1px 1px 1px);clip: rect(1px, 1px, 1px, 1px);height: 1px;margin: -1px;overflow: hidden;padding: 0;position: absolute;width: 1px;}#sk-container-id-2 div.sk-estimator {font-family: monospace;background-color: #f0f8ff;border: 1px dotted black;border-radius: 0.25em;box-sizing: border-box;margin-bottom: 0.5em;}#sk-container-id-2 div.sk-estimator:hover {background-color: #d4ebff;}#sk-container-id-2 div.sk-parallel-item::after {content: \"\";width: 100%;border-bottom: 1px solid gray;flex-grow: 1;}#sk-container-id-2 div.sk-label:hover label.sk-toggleable__label {background-color: #d4ebff;}#sk-container-id-2 div.sk-serial::before {content: \"\";position: absolute;border-left: 1px solid gray;box-sizing: border-box;top: 0;bottom: 0;left: 50%;z-index: 0;}#sk-container-id-2 div.sk-serial {display: flex;flex-direction: column;align-items: center;background-color: white;padding-right: 0.2em;padding-left: 0.2em;position: relative;}#sk-container-id-2 div.sk-item {position: relative;z-index: 1;}#sk-container-id-2 div.sk-parallel {display: flex;align-items: stretch;justify-content: center;background-color: white;position: relative;}#sk-container-id-2 div.sk-item::before, #sk-container-id-2 div.sk-parallel-item::before {content: \"\";position: absolute;border-left: 1px solid gray;box-sizing: border-box;top: 0;bottom: 0;left: 50%;z-index: -1;}#sk-container-id-2 div.sk-parallel-item {display: flex;flex-direction: column;z-index: 1;position: relative;background-color: white;}#sk-container-id-2 div.sk-parallel-item:first-child::after {align-self: flex-end;width: 50%;}#sk-container-id-2 div.sk-parallel-item:last-child::after {align-self: flex-start;width: 50%;}#sk-container-id-2 div.sk-parallel-item:only-child::after {width: 0;}#sk-container-id-2 div.sk-dashed-wrapped {border: 1px dashed gray;margin: 0 0.4em 0.5em 0.4em;box-sizing: border-box;padding-bottom: 0.4em;background-color: white;}#sk-container-id-2 div.sk-label label {font-family: monospace;font-weight: bold;display: inline-block;line-height: 1.2em;}#sk-container-id-2 div.sk-label-container {text-align: center;}#sk-container-id-2 div.sk-container {/* jupyter's `normalize.less` sets `[hidden] { display: none; }` but bootstrap.min.css set `[hidden] { display: none !important; }` so we also need the `!important` here to be able to override the default hidden behavior on the sphinx rendered scikit-learn.org. See: https://github.com/scikit-learn/scikit-learn/issues/21755 */display: inline-block !important;position: relative;}#sk-container-id-2 div.sk-text-repr-fallback {display: none;}</style><div id=\"sk-container-id-2\" class=\"sk-top-container\"><div class=\"sk-text-repr-fallback\"><pre>SVC()</pre><b>In a Jupyter environment, please rerun this cell to show the HTML representation or trust the notebook. <br />On GitHub, the HTML representation is unable to render, please try loading this page with nbviewer.org.</b></div><div class=\"sk-container\" hidden><div class=\"sk-item\"><div class=\"sk-estimator sk-toggleable\"><input class=\"sk-toggleable__control sk-hidden--visually\" id=\"sk-estimator-id-2\" type=\"checkbox\" checked><label for=\"sk-estimator-id-2\" class=\"sk-toggleable__label sk-toggleable__label-arrow\">SVC</label><div class=\"sk-toggleable__content\"><pre>SVC()</pre></div></div></div></div></div>"
      ],
      "text/plain": [
       "SVC()"
      ]
     },
     "execution_count": 139,
     "metadata": {},
     "output_type": "execute_result"
    }
   ],
   "source": [
    "svm.fit(image_data, trainY)"
   ]
  },
  {
   "cell_type": "code",
   "execution_count": 140,
   "id": "dec7621a-b0e8-4c47-8729-2d61536b348a",
   "metadata": {},
   "outputs": [
    {
     "data": {
      "text/plain": [
       "0.6546052631578947"
      ]
     },
     "execution_count": 140,
     "metadata": {},
     "output_type": "execute_result"
    }
   ],
   "source": [
    "svm.score(image_data, trainY)"
   ]
  },
  {
   "cell_type": "code",
   "execution_count": 141,
   "id": "034144e8-96f9-4f7d-a098-c7ca74e34b4d",
   "metadata": {},
   "outputs": [],
   "source": [
    "cnt = 0\n",
    "y_ = svm.predict(image_data)\n",
    "cnt += (y_ == trainY)"
   ]
  },
  {
   "cell_type": "code",
   "execution_count": 142,
   "id": "8676a248-2107-456d-82f0-8eead3770209",
   "metadata": {},
   "outputs": [
    {
     "data": {
      "text/plain": [
       "0.6546052631578947"
      ]
     },
     "execution_count": 142,
     "metadata": {},
     "output_type": "execute_result"
    }
   ],
   "source": [
    "np.sum(cnt) / 304"
   ]
  },
  {
   "cell_type": "code",
   "execution_count": null,
   "id": "7e34fb8b-1e5b-4796-9d60-08658640b8d8",
   "metadata": {},
   "outputs": [],
   "source": []
  },
  {
   "cell_type": "code",
   "execution_count": null,
   "id": "1894fc76-e67b-4aa7-a59f-ab36cf4174ec",
   "metadata": {},
   "outputs": [],
   "source": []
  }
 ],
 "metadata": {
  "kernelspec": {
   "display_name": "Python 3 (ipykernel)",
   "language": "python",
   "name": "python3"
  },
  "language_info": {
   "codemirror_mode": {
    "name": "ipython",
    "version": 3
   },
   "file_extension": ".py",
   "mimetype": "text/x-python",
   "name": "python",
   "nbconvert_exporter": "python",
   "pygments_lexer": "ipython3",
   "version": "3.11.3"
  }
 },
 "nbformat": 4,
 "nbformat_minor": 5
}
