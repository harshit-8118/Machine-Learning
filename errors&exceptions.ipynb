{
 "cells": [
  {
   "cell_type": "code",
   "execution_count": 1,
   "id": "e53b340b-6bc8-414d-9a08-3603bf398a99",
   "metadata": {},
   "outputs": [
    {
     "ename": "ZeroDivisionError",
     "evalue": "division by zero",
     "output_type": "error",
     "traceback": [
      "\u001b[1;31m---------------------------------------------------------------------------\u001b[0m",
      "\u001b[1;31mZeroDivisionError\u001b[0m                         Traceback (most recent call last)",
      "Cell \u001b[1;32mIn[1], line 1\u001b[0m\n\u001b[1;32m----> 1\u001b[0m \u001b[38;5;28mprint\u001b[39m(\u001b[38;5;241;43m10\u001b[39;49m\u001b[38;5;241;43m/\u001b[39;49m\u001b[38;5;241;43m0\u001b[39;49m)\n",
      "\u001b[1;31mZeroDivisionError\u001b[0m: division by zero"
     ]
    }
   ],
   "source": [
    "print(10/0)"
   ]
  },
  {
   "cell_type": "code",
   "execution_count": 2,
   "id": "f31c3668-8e37-422f-9f5f-fd41cb67687b",
   "metadata": {},
   "outputs": [
    {
     "name": "stdout",
     "output_type": "stream",
     "text": [
      "something went wrong !\n",
      "None\n",
      "4\n"
     ]
    }
   ],
   "source": [
    "def div(a, b):\n",
    "    try:\n",
    "        return a//b\n",
    "    except:\n",
    "        print('something went wrong !')\n",
    "\n",
    "print(div(10, 0))\n",
    "print(div(14, 3))"
   ]
  },
  {
   "cell_type": "code",
   "execution_count": 3,
   "id": "e4351531-47bd-4a4b-a71f-bc3a20d736c3",
   "metadata": {},
   "outputs": [
    {
     "ename": "ValueError",
     "evalue": "invalid literal for int() with base 10: 'jatin'",
     "output_type": "error",
     "traceback": [
      "\u001b[1;31m---------------------------------------------------------------------------\u001b[0m",
      "\u001b[1;31mValueError\u001b[0m                                Traceback (most recent call last)",
      "Cell \u001b[1;32mIn[3], line 1\u001b[0m\n\u001b[1;32m----> 1\u001b[0m a \u001b[38;5;241m=\u001b[39m \u001b[38;5;28;43mint\u001b[39;49m\u001b[43m(\u001b[49m\u001b[38;5;124;43m\"\u001b[39;49m\u001b[38;5;124;43mjatin\u001b[39;49m\u001b[38;5;124;43m\"\u001b[39;49m\u001b[43m)\u001b[49m\n",
      "\u001b[1;31mValueError\u001b[0m: invalid literal for int() with base 10: 'jatin'"
     ]
    }
   ],
   "source": [
    "a = int(\"jatin\")"
   ]
  },
  {
   "cell_type": "code",
   "execution_count": 28,
   "id": "42dc0bf6-d9ad-4c18-8393-66e41bab9c02",
   "metadata": {},
   "outputs": [
    {
     "name": "stdout",
     "output_type": "stream",
     "text": [
      "Error class:  <class 'ZeroDivisionError'>\n",
      "Error msg:  integer division or modulo by zero\n",
      "Error msg:  integer division or modulo by zero\n"
     ]
    }
   ],
   "source": [
    "def func():\n",
    "    try: \n",
    "        # a = int(input())\n",
    "        print(10//0)\n",
    "        # print(mark)\n",
    "    except ValueError:\n",
    "        print('please input integer value')\n",
    "    # except ZeroDivisionError:\n",
    "    #     print('you have divided by zero')\n",
    "    except Exception as e: \n",
    "        print('Error class: ', type(e))\n",
    "        print('Error msg: ', e)\n",
    "        print('Error msg: ', str(e))\n",
    "        \n",
    "        \n",
    "func()"
   ]
  },
  {
   "cell_type": "code",
   "execution_count": 34,
   "id": "97577040-cbcc-45f4-aae0-5184082b2e4e",
   "metadata": {},
   "outputs": [
    {
     "name": "stdout",
     "output_type": "stream",
     "text": [
      "some error\n"
     ]
    }
   ],
   "source": [
    "try:\n",
    "    raise Exception('some error')\n",
    "except Exception as e:\n",
    "    print(e)"
   ]
  },
  {
   "cell_type": "code",
   "execution_count": 38,
   "id": "569172c6-c7f3-4bfb-9bc3-c240cc563a29",
   "metadata": {},
   "outputs": [
    {
     "name": "stdout",
     "output_type": "stream",
     "text": [
      "error some Error some Error\n"
     ]
    }
   ],
   "source": [
    "class MyException(Exception):        # exceptions must derive from BaseException\n",
    "    def __init__(self, message): \n",
    "        self.message = message\n",
    "    def __str__(self):\n",
    "        return self.message\n",
    "\n",
    "try:\n",
    "    raise MyException(\"some Error\")\n",
    "except Exception as e:\n",
    "    print('error', str(e), e.message)"
   ]
  },
  {
   "cell_type": "code",
   "execution_count": 43,
   "id": "84f62686-4a03-4b08-8a63-c2651fe49b59",
   "metadata": {},
   "outputs": [
    {
     "data": {
      "text/plain": [
       "2"
      ]
     },
     "execution_count": 43,
     "metadata": {},
     "output_type": "execute_result"
    }
   ],
   "source": [
    "def func():\n",
    "    try: \n",
    "        return 1\n",
    "    finally: \n",
    "        return 2\n",
    "\n",
    "func()"
   ]
  },
  {
   "cell_type": "code",
   "execution_count": 52,
   "id": "73b58735-27e0-4fae-b2b8-b058dafeaf7a",
   "metadata": {},
   "outputs": [
    {
     "ename": "SyntaxError",
     "evalue": "expected 'except' or 'finally' block (3803112875.py, line 4)",
     "output_type": "error",
     "traceback": [
      "\u001b[1;36m  Cell \u001b[1;32mIn[52], line 4\u001b[1;36m\u001b[0m\n\u001b[1;33m    else:\u001b[0m\n\u001b[1;37m    ^\u001b[0m\n\u001b[1;31mSyntaxError\u001b[0m\u001b[1;31m:\u001b[0m expected 'except' or 'finally' block\n"
     ]
    }
   ],
   "source": [
    "def func():\n",
    "    try: \n",
    "        print('1')\n",
    "    else:\n",
    "        print('2')\n",
    "    finally: \n",
    "        print('3')\n",
    "\n",
    "func() # error => expected 'except' or 'finally' block"
   ]
  },
  {
   "cell_type": "code",
   "execution_count": 51,
   "id": "ea3b6164-07d7-4cf8-85b0-401ddd4d3247",
   "metadata": {},
   "outputs": [
    {
     "name": "stdout",
     "output_type": "stream",
     "text": [
      "1\n",
      "3\n"
     ]
    }
   ],
   "source": [
    "def func():\n",
    "    try: \n",
    "        print('1')\n",
    "    except:\n",
    "        return 2\n",
    "    else:\n",
    "        print('3')\n",
    "func()"
   ]
  },
  {
   "cell_type": "code",
   "execution_count": 53,
   "id": "a551d909-2365-4d39-b79a-49f4ad4a9761",
   "metadata": {},
   "outputs": [
    {
     "data": {
      "text/plain": [
       "4"
      ]
     },
     "execution_count": 53,
     "metadata": {},
     "output_type": "execute_result"
    }
   ],
   "source": [
    "def func():\n",
    "    try: \n",
    "        return 1\n",
    "    except:\n",
    "        return 2\n",
    "    else:\n",
    "        return 3\n",
    "    finally: \n",
    "        return 4\n",
    "\n",
    "func()"
   ]
  },
  {
   "cell_type": "code",
   "execution_count": 50,
   "id": "2845395b-7c4f-4faa-b6b1-1f8e1c7bb847",
   "metadata": {},
   "outputs": [
    {
     "name": "stdout",
     "output_type": "stream",
     "text": [
      "1\n",
      "3\n",
      "4\n"
     ]
    }
   ],
   "source": [
    "def func():\n",
    "    try: \n",
    "        print('1')\n",
    "    except:\n",
    "        print('2')\n",
    "    else:\n",
    "        print('3')\n",
    "    finally: \n",
    "        print('4')\n",
    "\n",
    "func()"
   ]
  },
  {
   "cell_type": "code",
   "execution_count": 56,
   "id": "f716e903-c5e4-459f-b7d0-0141316f6944",
   "metadata": {},
   "outputs": [
    {
     "name": "stdout",
     "output_type": "stream",
     "text": [
      "This is my code.\n",
      "This is my life.\n",
      "This is my words.\n"
     ]
    }
   ],
   "source": [
    "with open('Tiger.txt', 'r') as file:\n",
    "    print(file.read())"
   ]
  },
  {
   "cell_type": "code",
   "execution_count": 61,
   "id": "b3efc68f-bbcb-449e-a20f-80ea25605fac",
   "metadata": {},
   "outputs": [
    {
     "name": "stdout",
     "output_type": "stream",
     "text": [
      "This is my code.\n",
      "This is my life.\n",
      "This is my words.\n",
      "file closed\n"
     ]
    }
   ],
   "source": [
    "try: \n",
    "    file = open('Tiger.txt', 'r')\n",
    "    print(file.read())\n",
    "except Exception as e:\n",
    "    print('error!!', e)\n",
    "finally:\n",
    "    file.close()\n",
    "    print('file closed')"
   ]
  },
  {
   "cell_type": "code",
   "execution_count": 69,
   "id": "600d3e46-cac8-45f2-9989-d8a8832e88f3",
   "metadata": {},
   "outputs": [
    {
     "name": "stdout",
     "output_type": "stream",
     "text": [
      "6\n",
      "(<class 'ZeroDivisionError'>, ZeroDivisionError('integer division or modulo by zero'), <traceback object at 0x000002BE53B2E680>)\n",
      "hello\n"
     ]
    }
   ],
   "source": [
    "class A:\n",
    "    def __init__(self, n):\n",
    "        self.n = n\n",
    "    def __str__(self):\n",
    "        return str(self.n + 1)\n",
    "    def __enter__(self):\n",
    "        return self\n",
    "    def __exit__(self, *args):\n",
    "        print(args)\n",
    "        return True\n",
    "        # return False\n",
    "\n",
    "with A(5) as a:\n",
    "    print(a)\n",
    "    raise 10//0\n",
    "print('hello')"
   ]
  },
  {
   "cell_type": "code",
   "execution_count": null,
   "id": "af31fcd0-db24-46c3-8856-74ab2901db29",
   "metadata": {},
   "outputs": [],
   "source": []
  }
 ],
 "metadata": {
  "kernelspec": {
   "display_name": "Python 3 (ipykernel)",
   "language": "python",
   "name": "python3"
  },
  "language_info": {
   "codemirror_mode": {
    "name": "ipython",
    "version": 3
   },
   "file_extension": ".py",
   "mimetype": "text/x-python",
   "name": "python",
   "nbconvert_exporter": "python",
   "pygments_lexer": "ipython3",
   "version": "3.11.3"
  }
 },
 "nbformat": 4,
 "nbformat_minor": 5
}
