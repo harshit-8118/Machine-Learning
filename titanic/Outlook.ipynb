{
 "cells": [
  {
   "cell_type": "code",
   "execution_count": 1,
   "id": "4f6fea19-6e8f-424c-b04a-9aea5a2f6253",
   "metadata": {},
   "outputs": [],
   "source": [
    "import numpy as np\n",
    "import pandas as pd\n",
    "import matplotlib.pyplot as plt"
   ]
  },
  {
   "cell_type": "code",
   "execution_count": 6,
   "id": "2444817c-fcbb-4315-a46f-c66ae750fe68",
   "metadata": {},
   "outputs": [],
   "source": [
    "s, o, r, h, m, c, H, N, W, S, y, n  = 'S', 'O', 'R', 'H', 'M', 'C', 'h', 'n', 'w', 's', 'Y', 'N' \n",
    "\n",
    "a1 = np.array([s, s, o, r, r, r, o, s, s, r, s, o, o, r]).reshape((-1, 1))\n",
    "a2 = np.array([h, h, h, m, c, c, c, m, c, m, m, m, h, m]).reshape((-1, 1))\n",
    "a3 = np.array([H, H, H, H, N, N, N, H, N, N, N, H, N, H]).reshape((-1, 1))\n",
    "a4 = np.array([W, S, W, W, W, S, S, W, W, W, S, S, W, S]).reshape((-1, 1))\n",
    "a5 = np.array([n, n, y, y, y, n, y, n, y, y, y, y, y, n]).reshape((-1, 1))"
   ]
  },
  {
   "cell_type": "code",
   "execution_count": 8,
   "id": "ccf99422-b5d0-4d7f-b5da-6eecdf2d637f",
   "metadata": {},
   "outputs": [],
   "source": [
    "data = np.concatenate((a1, a2, a3, a4, a5), axis=1)"
   ]
  },
  {
   "cell_type": "code",
   "execution_count": 9,
   "id": "b1cd16d1-861b-413f-bb61-cbfe53938e87",
   "metadata": {},
   "outputs": [
    {
     "data": {
      "text/plain": [
       "array([['S', 'H', 'h', 'w', 'N'],\n",
       "       ['S', 'H', 'h', 's', 'N'],\n",
       "       ['O', 'H', 'h', 'w', 'Y'],\n",
       "       ['R', 'M', 'h', 'w', 'Y'],\n",
       "       ['R', 'C', 'n', 'w', 'Y'],\n",
       "       ['R', 'C', 'n', 's', 'N'],\n",
       "       ['O', 'C', 'n', 's', 'Y'],\n",
       "       ['S', 'M', 'h', 'w', 'N'],\n",
       "       ['S', 'C', 'n', 'w', 'Y'],\n",
       "       ['R', 'M', 'n', 'w', 'Y'],\n",
       "       ['S', 'M', 'n', 's', 'Y'],\n",
       "       ['O', 'M', 'h', 's', 'Y'],\n",
       "       ['O', 'H', 'n', 'w', 'Y'],\n",
       "       ['R', 'M', 'h', 's', 'N']], dtype='<U1')"
      ]
     },
     "execution_count": 9,
     "metadata": {},
     "output_type": "execute_result"
    }
   ],
   "source": [
    "data"
   ]
  },
  {
   "cell_type": "code",
   "execution_count": 10,
   "id": "de8a3a1c-8f30-4436-9da2-fe73ea6b1547",
   "metadata": {},
   "outputs": [],
   "source": [
    "df = pd.DataFrame(data, columns=[\"Outlook\", \"Temperature\", \"Humidity\", \"Wind\", \"Play\"])"
   ]
  },
  {
   "cell_type": "code",
   "execution_count": 11,
   "id": "46fb0dda-300a-4d43-8586-e6b68277759a",
   "metadata": {},
   "outputs": [
    {
     "data": {
      "text/html": [
       "<div>\n",
       "<style scoped>\n",
       "    .dataframe tbody tr th:only-of-type {\n",
       "        vertical-align: middle;\n",
       "    }\n",
       "\n",
       "    .dataframe tbody tr th {\n",
       "        vertical-align: top;\n",
       "    }\n",
       "\n",
       "    .dataframe thead th {\n",
       "        text-align: right;\n",
       "    }\n",
       "</style>\n",
       "<table border=\"1\" class=\"dataframe\">\n",
       "  <thead>\n",
       "    <tr style=\"text-align: right;\">\n",
       "      <th></th>\n",
       "      <th>Outlook</th>\n",
       "      <th>Temperature</th>\n",
       "      <th>Humidity</th>\n",
       "      <th>Wind</th>\n",
       "      <th>Play</th>\n",
       "    </tr>\n",
       "  </thead>\n",
       "  <tbody>\n",
       "    <tr>\n",
       "      <th>0</th>\n",
       "      <td>S</td>\n",
       "      <td>H</td>\n",
       "      <td>h</td>\n",
       "      <td>w</td>\n",
       "      <td>N</td>\n",
       "    </tr>\n",
       "    <tr>\n",
       "      <th>1</th>\n",
       "      <td>S</td>\n",
       "      <td>H</td>\n",
       "      <td>h</td>\n",
       "      <td>s</td>\n",
       "      <td>N</td>\n",
       "    </tr>\n",
       "    <tr>\n",
       "      <th>2</th>\n",
       "      <td>O</td>\n",
       "      <td>H</td>\n",
       "      <td>h</td>\n",
       "      <td>w</td>\n",
       "      <td>Y</td>\n",
       "    </tr>\n",
       "    <tr>\n",
       "      <th>3</th>\n",
       "      <td>R</td>\n",
       "      <td>M</td>\n",
       "      <td>h</td>\n",
       "      <td>w</td>\n",
       "      <td>Y</td>\n",
       "    </tr>\n",
       "    <tr>\n",
       "      <th>4</th>\n",
       "      <td>R</td>\n",
       "      <td>C</td>\n",
       "      <td>n</td>\n",
       "      <td>w</td>\n",
       "      <td>Y</td>\n",
       "    </tr>\n",
       "    <tr>\n",
       "      <th>5</th>\n",
       "      <td>R</td>\n",
       "      <td>C</td>\n",
       "      <td>n</td>\n",
       "      <td>s</td>\n",
       "      <td>N</td>\n",
       "    </tr>\n",
       "    <tr>\n",
       "      <th>6</th>\n",
       "      <td>O</td>\n",
       "      <td>C</td>\n",
       "      <td>n</td>\n",
       "      <td>s</td>\n",
       "      <td>Y</td>\n",
       "    </tr>\n",
       "    <tr>\n",
       "      <th>7</th>\n",
       "      <td>S</td>\n",
       "      <td>M</td>\n",
       "      <td>h</td>\n",
       "      <td>w</td>\n",
       "      <td>N</td>\n",
       "    </tr>\n",
       "    <tr>\n",
       "      <th>8</th>\n",
       "      <td>S</td>\n",
       "      <td>C</td>\n",
       "      <td>n</td>\n",
       "      <td>w</td>\n",
       "      <td>Y</td>\n",
       "    </tr>\n",
       "    <tr>\n",
       "      <th>9</th>\n",
       "      <td>R</td>\n",
       "      <td>M</td>\n",
       "      <td>n</td>\n",
       "      <td>w</td>\n",
       "      <td>Y</td>\n",
       "    </tr>\n",
       "    <tr>\n",
       "      <th>10</th>\n",
       "      <td>S</td>\n",
       "      <td>M</td>\n",
       "      <td>n</td>\n",
       "      <td>s</td>\n",
       "      <td>Y</td>\n",
       "    </tr>\n",
       "    <tr>\n",
       "      <th>11</th>\n",
       "      <td>O</td>\n",
       "      <td>M</td>\n",
       "      <td>h</td>\n",
       "      <td>s</td>\n",
       "      <td>Y</td>\n",
       "    </tr>\n",
       "    <tr>\n",
       "      <th>12</th>\n",
       "      <td>O</td>\n",
       "      <td>H</td>\n",
       "      <td>n</td>\n",
       "      <td>w</td>\n",
       "      <td>Y</td>\n",
       "    </tr>\n",
       "    <tr>\n",
       "      <th>13</th>\n",
       "      <td>R</td>\n",
       "      <td>M</td>\n",
       "      <td>h</td>\n",
       "      <td>s</td>\n",
       "      <td>N</td>\n",
       "    </tr>\n",
       "  </tbody>\n",
       "</table>\n",
       "</div>"
      ],
      "text/plain": [
       "   Outlook Temperature Humidity Wind Play\n",
       "0        S           H        h    w    N\n",
       "1        S           H        h    s    N\n",
       "2        O           H        h    w    Y\n",
       "3        R           M        h    w    Y\n",
       "4        R           C        n    w    Y\n",
       "5        R           C        n    s    N\n",
       "6        O           C        n    s    Y\n",
       "7        S           M        h    w    N\n",
       "8        S           C        n    w    Y\n",
       "9        R           M        n    w    Y\n",
       "10       S           M        n    s    Y\n",
       "11       O           M        h    s    Y\n",
       "12       O           H        n    w    Y\n",
       "13       R           M        h    s    N"
      ]
     },
     "execution_count": 11,
     "metadata": {},
     "output_type": "execute_result"
    }
   ],
   "source": [
    "df"
   ]
  },
  {
   "cell_type": "code",
   "execution_count": 12,
   "id": "bdd42a1a-ea1c-42dc-bd8c-1cd216b47efc",
   "metadata": {},
   "outputs": [],
   "source": [
    "from sklearn.tree import DecisionTreeClassifier"
   ]
  },
  {
   "cell_type": "code",
   "execution_count": 14,
   "id": "19625877-8b76-4e09-af12-d3dc80f83b0d",
   "metadata": {},
   "outputs": [],
   "source": [
    "sktree = DecisionTreeClassifier(criterion='entropy')"
   ]
  },
  {
   "cell_type": "code",
   "execution_count": 19,
   "id": "09963331-a008-4142-b27f-f49ad34ed240",
   "metadata": {},
   "outputs": [],
   "source": [
    "from sklearn.preprocessing import LabelEncoder\n",
    "le = LabelEncoder()\n",
    "for i in range(data.shape[1]):\n",
    "    data[:, i] = le.fit_transform(data[:,i])"
   ]
  },
  {
   "cell_type": "code",
   "execution_count": 20,
   "id": "0ac559ef-e284-4770-aebd-842ed763d1f9",
   "metadata": {},
   "outputs": [
    {
     "data": {
      "text/plain": [
       "array([['2', '1', '0', '1', '0'],\n",
       "       ['2', '1', '0', '0', '0'],\n",
       "       ['0', '1', '0', '1', '1'],\n",
       "       ['1', '2', '0', '1', '1'],\n",
       "       ['1', '0', '1', '1', '1'],\n",
       "       ['1', '0', '1', '0', '0'],\n",
       "       ['0', '0', '1', '0', '1'],\n",
       "       ['2', '2', '0', '1', '0'],\n",
       "       ['2', '0', '1', '1', '1'],\n",
       "       ['1', '2', '1', '1', '1'],\n",
       "       ['2', '2', '1', '0', '1'],\n",
       "       ['0', '2', '0', '0', '1'],\n",
       "       ['0', '1', '1', '1', '1'],\n",
       "       ['1', '2', '0', '0', '0']], dtype='<U1')"
      ]
     },
     "execution_count": 20,
     "metadata": {},
     "output_type": "execute_result"
    }
   ],
   "source": [
    "data"
   ]
  },
  {
   "cell_type": "code",
   "execution_count": 21,
   "id": "169cdb07-60f9-4d6e-b3b4-a796d1e25918",
   "metadata": {},
   "outputs": [
    {
     "data": {
      "text/html": [
       "<style>#sk-container-id-1 {color: black;}#sk-container-id-1 pre{padding: 0;}#sk-container-id-1 div.sk-toggleable {background-color: white;}#sk-container-id-1 label.sk-toggleable__label {cursor: pointer;display: block;width: 100%;margin-bottom: 0;padding: 0.3em;box-sizing: border-box;text-align: center;}#sk-container-id-1 label.sk-toggleable__label-arrow:before {content: \"▸\";float: left;margin-right: 0.25em;color: #696969;}#sk-container-id-1 label.sk-toggleable__label-arrow:hover:before {color: black;}#sk-container-id-1 div.sk-estimator:hover label.sk-toggleable__label-arrow:before {color: black;}#sk-container-id-1 div.sk-toggleable__content {max-height: 0;max-width: 0;overflow: hidden;text-align: left;background-color: #f0f8ff;}#sk-container-id-1 div.sk-toggleable__content pre {margin: 0.2em;color: black;border-radius: 0.25em;background-color: #f0f8ff;}#sk-container-id-1 input.sk-toggleable__control:checked~div.sk-toggleable__content {max-height: 200px;max-width: 100%;overflow: auto;}#sk-container-id-1 input.sk-toggleable__control:checked~label.sk-toggleable__label-arrow:before {content: \"▾\";}#sk-container-id-1 div.sk-estimator input.sk-toggleable__control:checked~label.sk-toggleable__label {background-color: #d4ebff;}#sk-container-id-1 div.sk-label input.sk-toggleable__control:checked~label.sk-toggleable__label {background-color: #d4ebff;}#sk-container-id-1 input.sk-hidden--visually {border: 0;clip: rect(1px 1px 1px 1px);clip: rect(1px, 1px, 1px, 1px);height: 1px;margin: -1px;overflow: hidden;padding: 0;position: absolute;width: 1px;}#sk-container-id-1 div.sk-estimator {font-family: monospace;background-color: #f0f8ff;border: 1px dotted black;border-radius: 0.25em;box-sizing: border-box;margin-bottom: 0.5em;}#sk-container-id-1 div.sk-estimator:hover {background-color: #d4ebff;}#sk-container-id-1 div.sk-parallel-item::after {content: \"\";width: 100%;border-bottom: 1px solid gray;flex-grow: 1;}#sk-container-id-1 div.sk-label:hover label.sk-toggleable__label {background-color: #d4ebff;}#sk-container-id-1 div.sk-serial::before {content: \"\";position: absolute;border-left: 1px solid gray;box-sizing: border-box;top: 0;bottom: 0;left: 50%;z-index: 0;}#sk-container-id-1 div.sk-serial {display: flex;flex-direction: column;align-items: center;background-color: white;padding-right: 0.2em;padding-left: 0.2em;position: relative;}#sk-container-id-1 div.sk-item {position: relative;z-index: 1;}#sk-container-id-1 div.sk-parallel {display: flex;align-items: stretch;justify-content: center;background-color: white;position: relative;}#sk-container-id-1 div.sk-item::before, #sk-container-id-1 div.sk-parallel-item::before {content: \"\";position: absolute;border-left: 1px solid gray;box-sizing: border-box;top: 0;bottom: 0;left: 50%;z-index: -1;}#sk-container-id-1 div.sk-parallel-item {display: flex;flex-direction: column;z-index: 1;position: relative;background-color: white;}#sk-container-id-1 div.sk-parallel-item:first-child::after {align-self: flex-end;width: 50%;}#sk-container-id-1 div.sk-parallel-item:last-child::after {align-self: flex-start;width: 50%;}#sk-container-id-1 div.sk-parallel-item:only-child::after {width: 0;}#sk-container-id-1 div.sk-dashed-wrapped {border: 1px dashed gray;margin: 0 0.4em 0.5em 0.4em;box-sizing: border-box;padding-bottom: 0.4em;background-color: white;}#sk-container-id-1 div.sk-label label {font-family: monospace;font-weight: bold;display: inline-block;line-height: 1.2em;}#sk-container-id-1 div.sk-label-container {text-align: center;}#sk-container-id-1 div.sk-container {/* jupyter's `normalize.less` sets `[hidden] { display: none; }` but bootstrap.min.css set `[hidden] { display: none !important; }` so we also need the `!important` here to be able to override the default hidden behavior on the sphinx rendered scikit-learn.org. See: https://github.com/scikit-learn/scikit-learn/issues/21755 */display: inline-block !important;position: relative;}#sk-container-id-1 div.sk-text-repr-fallback {display: none;}</style><div id=\"sk-container-id-1\" class=\"sk-top-container\"><div class=\"sk-text-repr-fallback\"><pre>DecisionTreeClassifier(criterion=&#x27;entropy&#x27;)</pre><b>In a Jupyter environment, please rerun this cell to show the HTML representation or trust the notebook. <br />On GitHub, the HTML representation is unable to render, please try loading this page with nbviewer.org.</b></div><div class=\"sk-container\" hidden><div class=\"sk-item\"><div class=\"sk-estimator sk-toggleable\"><input class=\"sk-toggleable__control sk-hidden--visually\" id=\"sk-estimator-id-1\" type=\"checkbox\" checked><label for=\"sk-estimator-id-1\" class=\"sk-toggleable__label sk-toggleable__label-arrow\">DecisionTreeClassifier</label><div class=\"sk-toggleable__content\"><pre>DecisionTreeClassifier(criterion=&#x27;entropy&#x27;)</pre></div></div></div></div></div>"
      ],
      "text/plain": [
       "DecisionTreeClassifier(criterion='entropy')"
      ]
     },
     "execution_count": 21,
     "metadata": {},
     "output_type": "execute_result"
    }
   ],
   "source": [
    "sktree.fit(data[:, :-1], data[:, -1])"
   ]
  },
  {
   "cell_type": "code",
   "execution_count": 24,
   "id": "c242ce02-cad7-4ce1-90ad-b3048a9d4f42",
   "metadata": {},
   "outputs": [
    {
     "data": {
      "image/png": "[encoded data removed]",
      "text/plain": [
       "<Figure size 640x480 with 1 Axes>"
      ]
     },
     "metadata": {},
     "output_type": "display_data"
    }
   ],
   "source": [
    "from sklearn.tree import plot_tree\n",
    "plot_tree(sktree, feature_names=df.columns, class_names=[\"No\", \"Yes\"], rounded=True)\n",
    "plt.show()"
   ]
  },
  {
   "cell_type": "code",
   "execution_count": null,
   "id": "1a9a7cfc-df99-44bf-a0a7-9d41e965571a",
   "metadata": {},
   "outputs": [],
   "source": []
  }
 ],
 "metadata": {
  "kernelspec": {
   "display_name": "Python 3 (ipykernel)",
   "language": "python",
   "name": "python3"
  },
  "language_info": {
   "codemirror_mode": {
    "name": "ipython",
    "version": 3
   },
   "file_extension": ".py",
   "mimetype": "text/x-python",
   "name": "python",
   "nbconvert_exporter": "python",
   "pygments_lexer": "ipython3",
   "version": "3.11.3"
  }
 },
 "nbformat": 4,
 "nbformat_minor": 5
}
