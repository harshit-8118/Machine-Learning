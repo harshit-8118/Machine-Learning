{
 "cells": [
  {
   "cell_type": "code",
   "execution_count": 1,
   "id": "92ddb4e6-d91f-42cd-b162-cffab03870b2",
   "metadata": {},
   "outputs": [
    {
     "name": "stdout",
     "output_type": "stream",
     "text": [
      "True\n"
     ]
    }
   ],
   "source": [
    "class Person:\n",
    "    pass\n",
    "\n",
    "p = Person()\n",
    "print(isinstance(p, object))"
   ]
  },
  {
   "cell_type": "code",
   "execution_count": 2,
   "id": "aeaa42be-f917-47fb-9e88-bd592d4dce97",
   "metadata": {},
   "outputs": [
    {
     "name": "stdout",
     "output_type": "stream",
     "text": [
      "hello\n"
     ]
    }
   ],
   "source": [
    "print(\"hello\")"
   ]
  },
  {
   "cell_type": "code",
   "execution_count": 3,
   "id": "f99feb0a-006b-4b41-b8dc-ae36c059e71c",
   "metadata": {},
   "outputs": [
    {
     "name": "stdout",
     "output_type": "stream",
     "text": [
      "\n",
      "True\n"
     ]
    }
   ],
   "source": [
    "a = print()\n",
    "print(isinstance(a, object))"
   ]
  },
  {
   "cell_type": "code",
   "execution_count": 2,
   "id": "2439155f-39e0-46ab-ad8d-f89334f0f908",
   "metadata": {},
   "outputs": [],
   "source": [
    "%config IPCompleter.greedy=True"
   ]
  },
  {
   "cell_type": "code",
   "execution_count": 7,
   "id": "4eb341b6-ded8-4618-b5f5-59f72cc5b444",
   "metadata": {},
   "outputs": [
    {
     "name": "stdout",
     "output_type": "stream",
     "text": [
      "Hello, my name is Jatin\n",
      "Hello, my name is Jatin\n"
     ]
    }
   ],
   "source": [
    "class Person: \n",
    "    name = \"Jatin\"\n",
    "    def say_hi(self):\n",
    "        print(\"Hello, my name is\", self.name)\n",
    "\n",
    "p = Person()\n",
    "p.say_hi()\n",
    "\n",
    "Person.say_hi(p)"
   ]
  },
  {
   "cell_type": "code",
   "execution_count": 3,
   "id": "18ee2d76-c4c0-441b-b6f8-ff2f399a8797",
   "metadata": {},
   "outputs": [
    {
     "name": "stdout",
     "output_type": "stream",
     "text": [
      "init is called\n",
      "Hello, my name is jatin\n",
      "Hello, my name is jatin\n"
     ]
    }
   ],
   "source": [
    "class Person: \n",
    "    name = \"jatin\"\n",
    "    # not a constructor \n",
    "    def __init__(self):\n",
    "        print(\"init is called\")\n",
    "    def say_hi(self):\n",
    "        print(\"Hello, my name is\", self.name)\n",
    "\n",
    "p = Person()\n",
    "p.say_hi()\n",
    "\n",
    "Person.say_hi(p)"
   ]
  },
  {
   "cell_type": "code",
   "execution_count": 4,
   "id": "a326ddf7-a45e-4fed-9b7e-ff6b6759a4a0",
   "metadata": {},
   "outputs": [
    {
     "name": "stdout",
     "output_type": "stream",
     "text": [
      "Hello, my name is Harshit\n",
      "Hello, my name is Abhishek\n",
      "Hello, my name is Harshit\n",
      "Hello, my name is Abhishek\n"
     ]
    }
   ],
   "source": [
    "class Person: \n",
    "    def __init__(self, name):\n",
    "        self.name = name\n",
    "    def say_hi(self):\n",
    "        print(\"Hello, my name is\", self.name)\n",
    "\n",
    "p = Person(\"Harshit\")\n",
    "p.say_hi()\n",
    "\n",
    "k = Person(\"Abhishek\")\n",
    "k.say_hi()\n",
    "\n",
    "Person.say_hi(p)\n",
    "Person.say_hi(k)"
   ]
  },
  {
   "cell_type": "markdown",
   "id": "cc8f40f8-ccc3-49ed-a23a-12a60abd3c7d",
   "metadata": {},
   "source": [
    "## Dunders and Magic Methods"
   ]
  },
  {
   "cell_type": "code",
   "execution_count": 23,
   "id": "3d7b3c85-9322-4752-a92c-f33df5f239c4",
   "metadata": {},
   "outputs": [
    {
     "name": "stdout",
     "output_type": "stream",
     "text": [
      "False\n",
      "5\n",
      "a\n",
      "b\n"
     ]
    }
   ],
   "source": [
    "class  Car:\n",
    "    def __init__(self, mileage, model):\n",
    "        self.mileage = mileage\n",
    "        self.model = model\n",
    "\n",
    "    # def __str__(self):\n",
    "    #     return \"{} {}\".format(self.model, self.mileage)\n",
    "        \n",
    "    def __repr__(self):\n",
    "        return \"{}\".format(self.model)\n",
    "        \n",
    "    def __eq__(self, other):\n",
    "        return self.mileage == other.mileage\n",
    "        \n",
    "    def __add__(self, other):\n",
    "        return self.mileage + other.mileage\n",
    "\n",
    "c1 = Car(2, 'a')\n",
    "c2 = Car(3, 'b')\n",
    "\n",
    "print(c1 == c2)\n",
    "print(c1 + c2)\n",
    "print(c1)\n",
    "print(c2)"
   ]
  },
  {
   "cell_type": "code",
   "execution_count": 26,
   "id": "9a8d65c1-a4d1-4848-bc1b-0b9945967307",
   "metadata": {},
   "outputs": [
    {
     "name": "stdout",
     "output_type": "stream",
     "text": [
      "hello Moto "
     ]
    },
    {
     "data": {
      "text/plain": [
       "<__main__.Ostream at 0x1997e9b4910>"
      ]
     },
     "execution_count": 26,
     "metadata": {},
     "output_type": "execute_result"
    }
   ],
   "source": [
    "class Ostream: \n",
    "    def __lshift__(self, other):\n",
    "        print(other, end=\" \")\n",
    "        return self\n",
    "\n",
    "cout = Ostream()\n",
    "\n",
    "cout<<\"hello\"<<\"Moto\""
   ]
  },
  {
   "cell_type": "code",
   "execution_count": 7,
   "id": "b8a51b66-b209-4799-a16e-e881c06fc599",
   "metadata": {},
   "outputs": [
    {
     "name": "stdout",
     "output_type": "stream",
     "text": [
      "2 5 22 4 15 "
     ]
    },
    {
     "data": {
      "text/plain": [
       "<__main__.Output at 0x198dd47d310>"
      ]
     },
     "execution_count": 7,
     "metadata": {},
     "output_type": "execute_result"
    }
   ],
   "source": [
    "class Output:\n",
    "    def __rshift__(self, integer):\n",
    "        print(integer//2, end=\" \")\n",
    "        return self\n",
    "\n",
    "cout = Output()\n",
    "cout>>5>>10>>45>>8>>31"
   ]
  },
  {
   "cell_type": "markdown",
   "id": "432a4ee5-8d05-417f-9097-fe0093f82f54",
   "metadata": {},
   "source": [
    "## Inheritance"
   ]
  },
  {
   "cell_type": "code",
   "execution_count": 16,
   "id": "7568b5d5-df45-4fc3-99a9-33752edd9444",
   "metadata": {},
   "outputs": [
    {
     "name": "stdout",
     "output_type": "stream",
     "text": [
      "canine\n",
      "canine\n",
      "something\n"
     ]
    }
   ],
   "source": [
    "class Dog:\n",
    "    kind = 'canine'\n",
    "    def __init__(self, name):\n",
    "        self.name = name\n",
    "\n",
    "    def Name(self):\n",
    "        print(self.name)\n",
    "\n",
    "D = Dog('labrador')\n",
    "print(D.kind)\n",
    "  \n",
    "DD = Dog('husky')\n",
    "DD.kind = 'something'\n",
    "print(D.kind)\n",
    "print(DD.kind)"
   ]
  },
  {
   "cell_type": "code",
   "execution_count": 27,
   "id": "f1f2a670-3df9-4508-a442-f43ca12e8101",
   "metadata": {},
   "outputs": [
    {
     "data": {
      "text/plain": [
       "['fetch', 'talk']"
      ]
     },
     "execution_count": 27,
     "metadata": {},
     "output_type": "execute_result"
    }
   ],
   "source": [
    "class Dog:\n",
    "    tricks = []  # mistaken use of class variable  \n",
    "    def __init__(self, name):\n",
    "        self.name = name\n",
    "\n",
    "    def add_trick(self, trick):\n",
    "        self.tricks.append(trick)\n",
    "\n",
    "D = Dog('bruno')\n",
    "DD = Dog('maxx')\n",
    "D.add_trick('fetch')\n",
    "D.add_trick('talk')\n",
    "# DD.tricks    #pointing to same tricks[]\n",
    "D.tricks\n",
    "# D.name\n",
    "# DD.name"
   ]
  },
  {
   "cell_type": "code",
   "execution_count": 28,
   "id": "ffa79f58-ca9d-45e8-8755-cdf760ce121c",
   "metadata": {},
   "outputs": [
    {
     "data": {
      "text/plain": [
       "1756058434496"
      ]
     },
     "execution_count": 28,
     "metadata": {},
     "output_type": "execute_result"
    }
   ],
   "source": [
    "id(D.tricks)"
   ]
  },
  {
   "cell_type": "code",
   "execution_count": 29,
   "id": "549a6b8a-e0f2-4a9f-b92e-a5c3fa76a721",
   "metadata": {},
   "outputs": [
    {
     "data": {
      "text/plain": [
       "1756058434496"
      ]
     },
     "execution_count": 29,
     "metadata": {},
     "output_type": "execute_result"
    }
   ],
   "source": [
    "id(DD.tricks)"
   ]
  },
  {
   "cell_type": "code",
   "execution_count": 30,
   "id": "012df30b-7bc6-40af-a0de-ac02a53ec685",
   "metadata": {},
   "outputs": [
    {
     "data": {
      "text/plain": [
       "1756058434496"
      ]
     },
     "execution_count": 30,
     "metadata": {},
     "output_type": "execute_result"
    }
   ],
   "source": [
    "id(Dog.tricks)"
   ]
  },
  {
   "cell_type": "code",
   "execution_count": 38,
   "id": "fca41aed-5417-4985-b32a-d90bfc6ba0fa",
   "metadata": {},
   "outputs": [
    {
     "data": {
      "text/plain": [
       "[]"
      ]
     },
     "execution_count": 38,
     "metadata": {},
     "output_type": "execute_result"
    }
   ],
   "source": [
    "class Dog:\n",
    "    def __init__(self, name):\n",
    "        self.name = name\n",
    "        self.tricks = []    \n",
    "\n",
    "    def add_trick(self, trick):\n",
    "        self.tricks.append(trick)\n",
    "\n",
    "D = Dog('bruno')\n",
    "DD = Dog('maxx')\n",
    "D.add_trick('fetch')\n",
    "D.add_trick('talk')\n",
    "DD.tricks  \n",
    "# D.tricks\n",
    "# D.name\n",
    "# DD.name"
   ]
  },
  {
   "cell_type": "code",
   "execution_count": 40,
   "id": "14316077-28cb-40f2-a58b-d97ba2d006d1",
   "metadata": {},
   "outputs": [
    {
     "data": {
      "text/plain": [
       "1756076029824"
      ]
     },
     "execution_count": 40,
     "metadata": {},
     "output_type": "execute_result"
    }
   ],
   "source": [
    "id(Dog.tricks)"
   ]
  },
  {
   "cell_type": "code",
   "execution_count": 33,
   "id": "9f981943-6441-4072-88a3-1830fe019659",
   "metadata": {},
   "outputs": [
    {
     "data": {
      "text/plain": [
       "1756064817152"
      ]
     },
     "execution_count": 33,
     "metadata": {},
     "output_type": "execute_result"
    }
   ],
   "source": [
    "id(D.tricks)"
   ]
  },
  {
   "cell_type": "code",
   "execution_count": 35,
   "id": "64c4c1d1-3312-436c-a22a-d85b45d70197",
   "metadata": {},
   "outputs": [
    {
     "data": {
      "text/plain": [
       "1756066859328"
      ]
     },
     "execution_count": 35,
     "metadata": {},
     "output_type": "execute_result"
    }
   ],
   "source": [
    "id(DD.tricks)"
   ]
  },
  {
   "cell_type": "code",
   "execution_count": 48,
   "id": "55b54c09-2761-4423-88b8-806ab3e3011f",
   "metadata": {},
   "outputs": [
    {
     "name": "stdout",
     "output_type": "stream",
     "text": [
      "initialised school member: Mr. Ujjwal\n",
      "Initialised teacher : Mr. Ujjwal\n",
      "Member : Mr. Ujjwal || Age : 28\n",
      "teacher's salary : 28000\n",
      "initialised school member: Vinod\n",
      "Initialised student : Vinod\n",
      "Member : Vinod || Age : 17\n",
      "student marks : 76\n"
     ]
    }
   ],
   "source": [
    "class SchoolMember:\n",
    "    '''Represents any school member'''\n",
    "    def __init__(self, name, age):\n",
    "        self.name = name\n",
    "        self.age = age\n",
    "        print('initialised school member: {}'.format(self.name))\n",
    "        \n",
    "    def tell(self):\n",
    "        '''Tell my details'''\n",
    "        print('Member : {} || Age : {}'.format(self.name, self.age))\n",
    "\n",
    "\n",
    "class teacher(SchoolMember):\n",
    "    def __init__(self, name, age, sal):\n",
    "        super().__init__(name, age)\n",
    "        self.salary = sal\n",
    "        print(\"Initialised teacher : {}\".format(self.name))\n",
    "\n",
    "    def tell(self):\n",
    "        super().tell()\n",
    "        print(\"teacher's salary : {}\".format(self.salary))\n",
    "\n",
    "\n",
    "class Student(SchoolMember):\n",
    "    def __init__(self, name, age, marks):\n",
    "        SchoolMember.__init__(self, name, age)\n",
    "        self.marks = marks\n",
    "        print(\"Initialised student : {}\".format(self.name))\n",
    "\n",
    "    def tell(self):\n",
    "        SchoolMember.tell(self)\n",
    "        print(\"student marks : {}\".format(self.marks))\n",
    "\n",
    "\n",
    "t = teacher('Mr. Ujjwal', 28, 28000)\n",
    "t.tell()\n",
    "s = Student('Vinod', 17, 76)\n",
    "s.tell()"
   ]
  },
  {
   "cell_type": "code",
   "execution_count": null,
   "id": "6b8dda75-849e-4672-9860-10faa96dc0d9",
   "metadata": {},
   "outputs": [],
   "source": [
    "# MRO [method resolution order]\n",
    "# A->B, A->C, C->D, D->E, B->E\n",
    "# In such case E can be stuck in ambiguity, as E.x has two values in B and D class\n",
    "# such situation is handled by C3 Linearization"
   ]
  },
  {
   "cell_type": "code",
   "execution_count": 61,
   "id": "0255d9f9-f976-4698-be30-c16edd63bdae",
   "metadata": {},
   "outputs": [
    {
     "data": {
      "text/plain": [
       "(__main__.E, __main__.B, __main__.D, __main__.C, __main__.A, object)"
      ]
     },
     "execution_count": 61,
     "metadata": {},
     "output_type": "execute_result"
    }
   ],
   "source": [
    "class A:\n",
    "    pass\n",
    "class B(A):\n",
    "    x = 10\n",
    "class C(A):\n",
    "    pass\n",
    "class D(C):\n",
    "    x = 5\n",
    "class E(B, D):\n",
    "# class E(D, B):\n",
    "    pass\n",
    "\n",
    "e = E()\n",
    "e.x\n",
    "E.__mro__\n"
   ]
  },
  {
   "cell_type": "markdown",
   "id": "3765a904-01d8-41cc-a63f-562154c259fd",
   "metadata": {},
   "source": [
    "# Modules"
   ]
  },
  {
   "cell_type": "markdown",
   "id": "256aabd4-6eec-475a-aad5-ef7d8eae032d",
   "metadata": {},
   "source": [
    "### Have practiced on VS code in User Module \"Math\", Math/simple.py, Math/complex.py, Math/__init__.py"
   ]
  },
  {
   "cell_type": "markdown",
   "id": "0d896a34-b3e3-40bd-8977-8b22ad084d37",
   "metadata": {},
   "source": [
    "# File Handling"
   ]
  },
  {
   "cell_type": "markdown",
   "id": "744b9d62-c912-46d5-82c7-729e91b912e0",
   "metadata": {},
   "source": [
    "### Practicing in VS code on FileHandling/FileHandling.py"
   ]
  },
  {
   "cell_type": "markdown",
   "id": "5538f089-a344-49c7-9db4-5761710756b1",
   "metadata": {},
   "source": [
    "# Json in Python"
   ]
  },
  {
   "cell_type": "markdown",
   "id": "52304f42-d225-47bb-ba1c-1da1e2662bbb",
   "metadata": {},
   "source": [
    "### Practicing in VS code on FileHandling/Json.py"
   ]
  },
  {
   "cell_type": "code",
   "execution_count": null,
   "id": "974be714-d22a-418c-8988-a86763a17145",
   "metadata": {},
   "outputs": [],
   "source": []
  },
  {
   "cell_type": "code",
   "execution_count": null,
   "id": "4f77b8cd-3518-4670-a2c2-028246f70b0e",
   "metadata": {},
   "outputs": [],
   "source": []
  },
  {
   "cell_type": "code",
   "execution_count": null,
   "id": "b4f1e244-b106-4942-a8ac-dbb440ab3df7",
   "metadata": {},
   "outputs": [],
   "source": []
  },
  {
   "cell_type": "code",
   "execution_count": null,
   "id": "c8f6a693-26d0-40dd-b587-bad901670e7c",
   "metadata": {},
   "outputs": [],
   "source": []
  },
  {
   "cell_type": "code",
   "execution_count": null,
   "id": "237fefe8-a297-44e5-8869-0e9c099a2651",
   "metadata": {},
   "outputs": [],
   "source": []
  },
  {
   "cell_type": "code",
   "execution_count": null,
   "id": "0ba1d2d3-88c5-468e-a57a-9e1384fc31cf",
   "metadata": {},
   "outputs": [],
   "source": []
  },
  {
   "cell_type": "code",
   "execution_count": null,
   "id": "43ea7ce6-e13e-4f9f-b934-917bfad8490f",
   "metadata": {},
   "outputs": [],
   "source": []
  }
 ],
 "metadata": {
  "kernelspec": {
   "display_name": "Python 3 (ipykernel)",
   "language": "python",
   "name": "python3"
  },
  "language_info": {
   "codemirror_mode": {
    "name": "ipython",
    "version": 3
   },
   "file_extension": ".py",
   "mimetype": "text/x-python",
   "name": "python",
   "nbconvert_exporter": "python",
   "pygments_lexer": "ipython3",
   "version": "3.11.3"
  }
 },
 "nbformat": 4,
 "nbformat_minor": 5
}
