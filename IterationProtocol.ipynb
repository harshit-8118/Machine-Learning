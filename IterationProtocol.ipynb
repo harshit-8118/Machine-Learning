{
 "cells": [
  {
   "cell_type": "code",
   "execution_count": 1,
   "id": "41621b2b-8604-44cd-bda6-a539def8c6f5",
   "metadata": {},
   "outputs": [
    {
     "name": "stdout",
     "output_type": "stream",
     "text": [
      "0\n",
      "1\n",
      "2\n",
      "3\n",
      "4\n"
     ]
    }
   ],
   "source": [
    "for i in range(5):\n",
    "    print(i)"
   ]
  },
  {
   "cell_type": "code",
   "execution_count": 2,
   "id": "4909127c-9c6e-4c04-b418-6e474fb28c67",
   "metadata": {},
   "outputs": [
    {
     "data": {
      "text/plain": [
       "<list_iterator at 0x1c22cabcca0>"
      ]
     },
     "execution_count": 2,
     "metadata": {},
     "output_type": "execute_result"
    }
   ],
   "source": [
    "x = [1, 2, 3]\n",
    "x_iter = iter(x)\n",
    "x_iter"
   ]
  },
  {
   "cell_type": "code",
   "execution_count": 6,
   "id": "c1dcf0e8-24ae-4aa8-b29a-273954f9d784",
   "metadata": {},
   "outputs": [
    {
     "ename": "StopIteration",
     "evalue": "",
     "output_type": "error",
     "traceback": [
      "\u001b[1;31m---------------------------------------------------------------------------\u001b[0m",
      "\u001b[1;31mStopIteration\u001b[0m                             Traceback (most recent call last)",
      "Cell \u001b[1;32mIn[6], line 1\u001b[0m\n\u001b[1;32m----> 1\u001b[0m \u001b[38;5;28;43mnext\u001b[39;49m\u001b[43m(\u001b[49m\u001b[43mx_iter\u001b[49m\u001b[43m)\u001b[49m\n",
      "\u001b[1;31mStopIteration\u001b[0m: "
     ]
    }
   ],
   "source": [
    "next(x_iter)"
   ]
  },
  {
   "cell_type": "code",
   "execution_count": 38,
   "id": "587f54d2-ccde-47d8-8e5a-ea306c5b7d05",
   "metadata": {},
   "outputs": [
    {
     "name": "stdout",
     "output_type": "stream",
     "text": [
      "0\n",
      "1\n",
      "2\n",
      "3\n",
      "4\n"
     ]
    }
   ],
   "source": [
    "# it is both Iterable and Iterator\n",
    "class Yrange:\n",
    "    def __init__(self, n):\n",
    "        self.i = 0\n",
    "        self.n = n\n",
    "    # this method make our class iterable \n",
    "    def __iter__(self):\n",
    "        return self\n",
    "    # this method should be implemented by the iterator\n",
    "    def __next__(self):\n",
    "        if(self.i < self.n):\n",
    "            i = self.i\n",
    "            self.i += 1\n",
    "            return i\n",
    "        else:\n",
    "            raise StopIteration()\n",
    "\n",
    "for i in Yrange(5):\n",
    "    print(i)"
   ]
  },
  {
   "cell_type": "code",
   "execution_count": 35,
   "id": "deb6106b-fdf4-4f2f-a122-082c5d592db0",
   "metadata": {},
   "outputs": [],
   "source": [
    "y = Yrange(5)\n",
    "y_iter = iter(y)"
   ]
  },
  {
   "cell_type": "code",
   "execution_count": 36,
   "id": "3fadc341-faac-419f-8ae1-687424e2bd3d",
   "metadata": {},
   "outputs": [
    {
     "name": "stdout",
     "output_type": "stream",
     "text": [
      "[0, 1, 2, 3, 4]\n",
      "[]\n"
     ]
    }
   ],
   "source": [
    "# next(y_iter)\n",
    "print(list(y))\n",
    "print(list(y)) # because iterable and iterator in same class."
   ]
  },
  {
   "cell_type": "code",
   "execution_count": 3,
   "id": "a4bd91f4-be3a-4787-bbea-f82fe34667ba",
   "metadata": {},
   "outputs": [
    {
     "name": "stdout",
     "output_type": "stream",
     "text": [
      "0\n",
      "1\n",
      "2\n",
      "3\n",
      "4\n",
      "[0, 1, 2, 3, 4, 5]\n",
      "[0, 1, 2, 3, 4, 5]\n",
      "[0, 1, 2, 3, 4, 5]\n"
     ]
    }
   ],
   "source": [
    "# This is an Iterable class\n",
    "class Zrange:\n",
    "    def __init__(self, n):\n",
    "        self.n = n\n",
    "    def __iter__(self):\n",
    "        return Zrange_iter(self.n)\n",
    "\n",
    "# This is an Iterator\n",
    "class Zrange_iter:\n",
    "    def __init__(self, n):\n",
    "        self.i = 0\n",
    "        self.n = n\n",
    "    def __iter__(self):\n",
    "        return self\n",
    "    def __next__(self):\n",
    "        if self.i < self.n:\n",
    "            i = self.i\n",
    "            self.i += 1\n",
    "            return i\n",
    "        else:\n",
    "            raise StopIteration()\n",
    "\n",
    "for i in Zrange(5):\n",
    "    print(i)\n",
    "\n",
    "z = Zrange(6)\n",
    "print(list(z))\n",
    "print(list(z))\n",
    "print(list(z))"
   ]
  },
  {
   "cell_type": "code",
   "execution_count": 9,
   "id": "7df50dd1-acda-4c64-8c7b-69d4116833f1",
   "metadata": {},
   "outputs": [
    {
     "data": {
      "text/plain": [
       "'1.2.3'"
      ]
     },
     "execution_count": 9,
     "metadata": {},
     "output_type": "execute_result"
    }
   ],
   "source": [
    "\".\".join(['1', '2','3'])"
   ]
  },
  {
   "cell_type": "code",
   "execution_count": 10,
   "id": "fd606888-6038-4df7-89ff-21d914c06c67",
   "metadata": {},
   "outputs": [
    {
     "data": {
      "text/plain": [
       "'j.a.t.i.n'"
      ]
     },
     "execution_count": 10,
     "metadata": {},
     "output_type": "execute_result"
    }
   ],
   "source": [
    "\".\".join(\"jatin\")"
   ]
  },
  {
   "cell_type": "code",
   "execution_count": 12,
   "id": "22e6c566-5410-4b28-882d-c87f50cf6904",
   "metadata": {},
   "outputs": [],
   "source": [
    "d = {'name': 'harshit', \"age\": 23, 'branch': 'cse'}"
   ]
  },
  {
   "cell_type": "code",
   "execution_count": 17,
   "id": "738fc27e-2ec7-44a6-866d-fdfb4a27b3bf",
   "metadata": {},
   "outputs": [
    {
     "data": {
      "text/plain": [
       "'name.age.branch'"
      ]
     },
     "execution_count": 17,
     "metadata": {},
     "output_type": "execute_result"
    }
   ],
   "source": [
    "\".\".join(d.keys())"
   ]
  },
  {
   "cell_type": "code",
   "execution_count": 18,
   "id": "add8a1e6-b36a-452e-8262-e3480690548f",
   "metadata": {},
   "outputs": [
    {
     "data": {
      "text/plain": [
       "'This is my code.\\n.This is my life.\\n.This is my words.'"
      ]
     },
     "execution_count": 18,
     "metadata": {},
     "output_type": "execute_result"
    }
   ],
   "source": [
    "\".\".join(open(\"Tiger.txt\", 'r'))"
   ]
  },
  {
   "cell_type": "code",
   "execution_count": 22,
   "id": "a452e530-bf87-4d30-bf82-cd70c5496489",
   "metadata": {},
   "outputs": [
    {
     "data": {
      "text/plain": [
       "[1, 2, 23]"
      ]
     },
     "execution_count": 22,
     "metadata": {},
     "output_type": "execute_result"
    }
   ],
   "source": [
    "a = list([1, 2, 23])\n",
    "a"
   ]
  },
  {
   "cell_type": "code",
   "execution_count": 23,
   "id": "95273b12-2bea-41f3-ad12-8931b21be308",
   "metadata": {},
   "outputs": [
    {
     "data": {
      "text/plain": [
       "78"
      ]
     },
     "execution_count": 23,
     "metadata": {},
     "output_type": "execute_result"
    }
   ],
   "source": [
    "a = [1, 2, 3, 34, 4, 34]\n",
    "sum(a)"
   ]
  },
  {
   "cell_type": "code",
   "execution_count": 24,
   "id": "fc06500c-1268-428b-871d-658cbac7f328",
   "metadata": {},
   "outputs": [
    {
     "data": {
      "text/plain": [
       "6"
      ]
     },
     "execution_count": 24,
     "metadata": {},
     "output_type": "execute_result"
    }
   ],
   "source": [
    "dd = {1: 'a', 2: 'b', 3: 'c'}\n",
    "sum(dd)"
   ]
  },
  {
   "cell_type": "markdown",
   "id": "b4c480a6-246a-45e6-aa88-4817cb09c1a2",
   "metadata": {},
   "source": [
    "# Generators\n",
    "- simple functions or expression to create iterators"
   ]
  },
  {
   "cell_type": "code",
   "execution_count": 44,
   "id": "59340f94-ffbf-4ba0-95b6-b8e9509a04c2",
   "metadata": {},
   "outputs": [],
   "source": [
    "class fibo:\n",
    "    def __init__(self):\n",
    "        self.prev = 0\n",
    "        self.curr = 1\n",
    "    def __iter__(self):\n",
    "        return self\n",
    "    def __next__(self):\n",
    "        self.prev, self.curr = self.curr, self.curr + self.prev\n",
    "        return self.prev\n",
    "\n",
    "fib = iter(fibo())       "
   ]
  },
  {
   "cell_type": "code",
   "execution_count": 51,
   "id": "5d86c1bd-f285-419f-843d-8a033ce2248f",
   "metadata": {},
   "outputs": [
    {
     "data": {
      "text/plain": [
       "13"
      ]
     },
     "execution_count": 51,
     "metadata": {},
     "output_type": "execute_result"
    }
   ],
   "source": [
    "next(fib)"
   ]
  },
  {
   "cell_type": "code",
   "execution_count": 52,
   "id": "8757f14e-9e76-4bec-899f-ae8a811e9625",
   "metadata": {},
   "outputs": [],
   "source": [
    "## using genertors\n",
    "def fibo():\n",
    "    prev, curr = 0, 1\n",
    "    while True:\n",
    "        yield curr\n",
    "        prev, curr = curr, curr + prev\n",
    "\n",
    "gen = fibo()     "
   ]
  },
  {
   "cell_type": "code",
   "execution_count": 62,
   "id": "dd5bd342-352f-4976-9f7e-9262d52d7d89",
   "metadata": {},
   "outputs": [
    {
     "data": {
      "text/plain": [
       "55"
      ]
     },
     "execution_count": 62,
     "metadata": {},
     "output_type": "execute_result"
    }
   ],
   "source": [
    "next(gen)"
   ]
  },
  {
   "cell_type": "code",
   "execution_count": 69,
   "id": "617f3a22-653d-4721-86f1-e20dd7b00ef2",
   "metadata": {},
   "outputs": [
    {
     "name": "stdout",
     "output_type": "stream",
     "text": [
      "[1, 4, 9, 16, 25, 36, 49, 64, 81, 100]\n",
      "<class 'list'>\n"
     ]
    }
   ],
   "source": [
    "a = [x**2 for x in range(1, 11)]\n",
    "print(a)\n",
    "print(type(a))"
   ]
  },
  {
   "cell_type": "code",
   "execution_count": 83,
   "id": "d0578610-3f20-4157-849d-6f1c384a6e02",
   "metadata": {},
   "outputs": [
    {
     "name": "stdout",
     "output_type": "stream",
     "text": [
      "<generator object <genexpr> at 0x0000026C15B70FB0>\n"
     ]
    }
   ],
   "source": [
    "gen = (x**2 for x in range(1, 11))\n",
    "print(gen)"
   ]
  },
  {
   "cell_type": "code",
   "execution_count": 84,
   "id": "276865c7-eaeb-4dbc-8c00-594f7b812d84",
   "metadata": {},
   "outputs": [
    {
     "data": {
      "text/plain": [
       "1"
      ]
     },
     "execution_count": 84,
     "metadata": {},
     "output_type": "execute_result"
    }
   ],
   "source": [
    "next(gen)"
   ]
  },
  {
   "cell_type": "code",
   "execution_count": null,
   "id": "d5220f70-3aa6-4424-921e-33496be90bed",
   "metadata": {},
   "outputs": [],
   "source": []
  }
 ],
 "metadata": {
  "kernelspec": {
   "display_name": "Python 3 (ipykernel)",
   "language": "python",
   "name": "python3"
  },
  "language_info": {
   "codemirror_mode": {
    "name": "ipython",
    "version": 3
   },
   "file_extension": ".py",
   "mimetype": "text/x-python",
   "name": "python",
   "nbconvert_exporter": "python",
   "pygments_lexer": "ipython3",
   "version": "3.11.3"
  }
 },
 "nbformat": 4,
 "nbformat_minor": 5
}
