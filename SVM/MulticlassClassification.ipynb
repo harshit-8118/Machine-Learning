{
 "cells": [
  {
   "cell_type": "code",
   "execution_count": 4,
   "id": "3c97fe95-b9a1-46ed-8341-efbea6c660d2",
   "metadata": {},
   "outputs": [],
   "source": [
    "import numpy as np\n",
    "import matplotlib.pyplot as plt"
   ]
  },
  {
   "cell_type": "code",
   "execution_count": null,
   "id": "ffbb90e0-96f5-4cbd-9f76-2527e321bc37",
   "metadata": {},
   "outputs": [],
   "source": []
  },
  {
   "cell_type": "markdown",
   "id": "0ffdee0b-b75e-4b04-bcbc-6107a542fcd2",
   "metadata": {},
   "source": [
    "### Convert this binary classification into 1 vs 1 classification"
   ]
  },
  {
   "cell_type": "code",
   "execution_count": 5,
   "id": "3c60db6f-0b91-4449-b6bf-55429b4efbb0",
   "metadata": {},
   "outputs": [],
   "source": [
    "class SVM:\n",
    "    def __init__(self, C=1.0):\n",
    "        self.C = C\n",
    "        self.W = 0\n",
    "        self.b = 0\n",
    "\n",
    "    def hingeLoss(self, W, b, X, Y):\n",
    "        loss = 0.5 * np.dot(W, W.T)\n",
    "        m = X.shape[0]\n",
    "        \n",
    "        for i in range(m):\n",
    "            ti = Y[i] * (np.dot(W, X[i].T) + b)\n",
    "            loss += self.C * max(0, 1 - ti)\n",
    "\n",
    "        return loss[0,0]\n",
    "    \n",
    "    def fit(self, X, Y, batch_size=100, alpha=0.001, maxIters=300):\n",
    "        no_of_features = X.shape[1]\n",
    "        no_of_samples = X.shape[0]\n",
    "        c = self.C\n",
    "        w = np.zeros((1, no_of_features))\n",
    "        bias = 0\n",
    "\n",
    "        losses = []\n",
    "        for i in range(maxIters):\n",
    "            l = self.hingeLoss(w, bias, X, Y)\n",
    "            losses.append(l)\n",
    "\n",
    "            ids = np.arange(no_of_samples)\n",
    "            np.random.shuffle(ids)\n",
    "            for batch_start in range(0, no_of_samples, batch_size):\n",
    "                gradb = 0\n",
    "                gradw = 0\n",
    "                for j in range(batch_start, batch_start + batch_size):\n",
    "                    if j < no_of_samples:\n",
    "                        k = ids[j]\n",
    "                        ti = Y[k] * (np.dot(w, X[k].T) + bias)\n",
    "                        if ti >= 1:\n",
    "                            gradw += 0\n",
    "                            gradb += 0\n",
    "                        else:\n",
    "                            gradw += c * Y[k] * X[k]\n",
    "                            gradb += c * Y[k]\n",
    "                \n",
    "                bias += alpha * gradb\n",
    "                w = w - alpha * w + alpha * gradw\n",
    "\n",
    "        self.b = bias\n",
    "        self.W = w\n",
    "        return self.b, self.W[0], losses"
   ]
  },
  {
   "cell_type": "code",
   "execution_count": 6,
   "id": "deaa913a-8a8d-4bb1-abbb-2bb0f102b099",
   "metadata": {},
   "outputs": [],
   "source": [
    "svm = SVM(C=1.0)"
   ]
  },
  {
   "cell_type": "code",
   "execution_count": null,
   "id": "83c97aad-7435-43af-8afc-460b15eef861",
   "metadata": {},
   "outputs": [],
   "source": []
  },
  {
   "cell_type": "code",
   "execution_count": null,
   "id": "e057771a-35ef-406d-8ee3-79eda1fd36b0",
   "metadata": {},
   "outputs": [],
   "source": []
  },
  {
   "cell_type": "code",
   "execution_count": null,
   "id": "ad38afd3-8cdd-4061-b25c-0342eaf7e035",
   "metadata": {},
   "outputs": [],
   "source": []
  },
  {
   "cell_type": "code",
   "execution_count": null,
   "id": "7191c54a-a0db-4b1d-bc24-fbd59c53cada",
   "metadata": {},
   "outputs": [],
   "source": []
  },
  {
   "cell_type": "code",
   "execution_count": null,
   "id": "b3a044b5-87e7-44f8-a4d3-2d90488f0f59",
   "metadata": {},
   "outputs": [],
   "source": []
  },
  {
   "cell_type": "code",
   "execution_count": null,
   "id": "b8890a72-f3e3-45ea-a744-601b0a9950fc",
   "metadata": {},
   "outputs": [],
   "source": []
  },
  {
   "cell_type": "code",
   "execution_count": null,
   "id": "3e701717-a661-4985-96ab-3602b49b656f",
   "metadata": {},
   "outputs": [],
   "source": []
  },
  {
   "cell_type": "code",
   "execution_count": null,
   "id": "8c526bb8-6954-46ac-b53a-ed557312dab8",
   "metadata": {},
   "outputs": [],
   "source": []
  },
  {
   "cell_type": "code",
   "execution_count": null,
   "id": "16081bf1-6a74-4560-8dc1-28af6e085517",
   "metadata": {},
   "outputs": [],
   "source": []
  },
  {
   "cell_type": "code",
   "execution_count": null,
   "id": "8c3c7b56-90c3-430d-9d79-9b43557e37fc",
   "metadata": {},
   "outputs": [],
   "source": []
  },
  {
   "cell_type": "code",
   "execution_count": null,
   "id": "ff69eaa4-6a95-46a6-8399-664a750b37a9",
   "metadata": {},
   "outputs": [],
   "source": []
  },
  {
   "cell_type": "code",
   "execution_count": null,
   "id": "a9b65bf0-2e5e-4b89-b927-4c1333f4d25f",
   "metadata": {},
   "outputs": [],
   "source": []
  },
  {
   "cell_type": "code",
   "execution_count": null,
   "id": "02a74e8f-31ce-445b-b445-6e77495e6e13",
   "metadata": {},
   "outputs": [],
   "source": []
  }
 ],
 "metadata": {
  "kernelspec": {
   "display_name": "Python 3 (ipykernel)",
   "language": "python",
   "name": "python3"
  },
  "language_info": {
   "codemirror_mode": {
    "name": "ipython",
    "version": 3
   },
   "file_extension": ".py",
   "mimetype": "text/x-python",
   "name": "python",
   "nbconvert_exporter": "python",
   "pygments_lexer": "ipython3",
   "version": "3.11.3"
  }
 },
 "nbformat": 4,
 "nbformat_minor": 5
}
