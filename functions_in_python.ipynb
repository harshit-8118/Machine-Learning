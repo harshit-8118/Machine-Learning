{
 "cells": [
  {
   "cell_type": "code",
   "execution_count": 10,
   "id": "f9a75fcc-b151-4bc9-8d1d-306f2b352208",
   "metadata": {},
   "outputs": [],
   "source": [
    "def add(a, b):\n",
    "    return a + b\n",
    "\n",
    "def printSt():\n",
    "    for i in range(11):\n",
    "        print(i, end=\" \")\n",
    "    print()\n",
    "    for i in range(1, 11):\n",
    "        print(i, end=\" \")\n",
    "    print()\n",
    "    for i in [1, 2, 3, 3,4, 423, 23,2,32,32,3]:\n",
    "        print(i, end=\" \")"
   ]
  },
  {
   "cell_type": "code",
   "execution_count": 11,
   "id": "71cc84e3-b652-45c8-a89a-643643c98bdb",
   "metadata": {},
   "outputs": [
    {
     "name": "stdout",
     "output_type": "stream",
     "text": [
      "55\n",
      "0 1 2 3 4 5 6 7 8 9 10 \n",
      "1 2 3 4 5 6 7 8 9 10 \n",
      "1 2 3 3 4 423 23 2 32 32 3 "
     ]
    }
   ],
   "source": [
    "print(add(32, 23))\n",
    "printSt()"
   ]
  },
  {
   "cell_type": "code",
   "execution_count": 14,
   "id": "f5ab1a3b-e1c9-4648-a987-98835b8eda7f",
   "metadata": {},
   "outputs": [],
   "source": [
    "def div(a, b):\n",
    "    try:\n",
    "        return a / b \n",
    "    except:\n",
    "        print('err')\n",
    "    finally: \n",
    "        print('wrapping up')"
   ]
  },
  {
   "cell_type": "code",
   "execution_count": 24,
   "id": "5457a7a2-e4a7-411c-ad52-4f8e16f457fe",
   "metadata": {},
   "outputs": [],
   "source": [
    "import time"
   ]
  },
  {
   "cell_type": "code",
   "execution_count": 26,
   "id": "ebcf8855-87cd-490e-bd37-02c7a409ff9c",
   "metadata": {},
   "outputs": [
    {
     "name": "stdout",
     "output_type": "stream",
     "text": [
      "wrapping up\n",
      "14.434782608695652\n",
      "err\n",
      "wrapping up\n"
     ]
    }
   ],
   "source": [
    "x = div(332, 23)\n",
    "print(x)\n",
    "time.sleep(2)\n",
    "div(4, 0)"
   ]
  },
  {
   "cell_type": "markdown",
   "id": "99624579-7236-4f29-942c-4d9b1fd9ef3b",
   "metadata": {},
   "source": [
    "## local and global varibales"
   ]
  },
  {
   "cell_type": "code",
   "execution_count": 32,
   "id": "4cfce98e-22dc-4dd0-845b-01ae9ddb5dd5",
   "metadata": {},
   "outputs": [
    {
     "name": "stdout",
     "output_type": "stream",
     "text": [
      "10\n",
      "5\n"
     ]
    }
   ],
   "source": [
    "x = 5\n",
    "def show():\n",
    "    x = 10\n",
    "    print(x)\n",
    "\n",
    "show()\n",
    "print(x)"
   ]
  },
  {
   "cell_type": "code",
   "execution_count": 34,
   "id": "37abc675-4547-426c-9e60-8fc0d6d1f0a6",
   "metadata": {},
   "outputs": [
    {
     "name": "stdout",
     "output_type": "stream",
     "text": [
      "15\n",
      "15\n"
     ]
    }
   ],
   "source": [
    "x = 5\n",
    "def show():\n",
    "    global x\n",
    "    x += 10\n",
    "    print(x)\n",
    "\n",
    "show()\n",
    "print(x)"
   ]
  },
  {
   "cell_type": "code",
   "execution_count": 40,
   "id": "f27fb48d-58fa-4090-a8b1-d910c90f9d68",
   "metadata": {},
   "outputs": [
    {
     "name": "stdout",
     "output_type": "stream",
     "text": [
      "10\n",
      "local\n"
     ]
    }
   ],
   "source": [
    "x = 10\n",
    "def show():\n",
    "    y = \"local\"\n",
    "    print(x)\n",
    "    print(y)\n",
    "\n",
    "show()\n",
    "# print(y)"
   ]
  },
  {
   "cell_type": "code",
   "execution_count": 45,
   "id": "87d44b50-9682-43f8-bb23-81e87e07e5de",
   "metadata": {},
   "outputs": [
    {
     "name": "stdout",
     "output_type": "stream",
     "text": [
      "inner\n",
      "10\n",
      "outer\n"
     ]
    }
   ],
   "source": [
    "# enclosures\n",
    "def outer():\n",
    "    a = \"outer\"\n",
    "    c = 10\n",
    "    def inner():\n",
    "        b = \"inner\"\n",
    "        print(b)\n",
    "        print(c)\n",
    "        print(a)\n",
    "    inner()\n",
    "\n",
    "outer()"
   ]
  },
  {
   "cell_type": "code",
   "execution_count": 55,
   "id": "45f984d4-5a40-4698-a300-4d16cdcd04f1",
   "metadata": {},
   "outputs": [
    {
     "name": "stdout",
     "output_type": "stream",
     "text": [
      "inner\n",
      "20\n"
     ]
    }
   ],
   "source": [
    "# enclosures\n",
    "def outer():\n",
    "    a = 10\n",
    "    def inner():\n",
    "        b = \"inner\"\n",
    "        # global a        # this will try to find 'a' outside outer() in global scope instead nonlocal scope\n",
    "        # We can access variable from global and nonlocal scope but can't modify it\n",
    "        nonlocal a\n",
    "        a += 10\n",
    "        print(b) \n",
    "        print(a)\n",
    "    inner()\n",
    "\n",
    "outer()"
   ]
  },
  {
   "cell_type": "markdown",
   "id": "58120fe1-c9bb-4918-8fbf-36bd64639e3a",
   "metadata": {},
   "source": [
    "## arguments in python"
   ]
  },
  {
   "cell_type": "code",
   "execution_count": 64,
   "id": "8cffab3f-b988-4489-ad3e-891be11e8b15",
   "metadata": {},
   "outputs": [
    {
     "name": "stdout",
     "output_type": "stream",
     "text": [
      "Harshit shukla boy something something more\n"
     ]
    }
   ],
   "source": [
    "def func(a, b, c, d = 'something', e = 'something more'):\n",
    "    print(a,b,c,d,e)\n",
    "func('Harshit', \"shukla\", \"boy\")"
   ]
  },
  {
   "cell_type": "code",
   "execution_count": 65,
   "id": "e3529ba0-fcb1-4db4-9117-d42a0116d092",
   "metadata": {},
   "outputs": [
    {
     "name": "stdout",
     "output_type": "stream",
     "text": [
      "Harshit shukla boy something hello\n"
     ]
    }
   ],
   "source": [
    "func('Harshit', \"shukla\", \"boy\", e=\"hello\")"
   ]
  },
  {
   "cell_type": "code",
   "execution_count": 66,
   "id": "b2177570-beb3-46aa-b726-c76911be84c1",
   "metadata": {},
   "outputs": [
    {
     "name": "stdout",
     "output_type": "stream",
     "text": [
      "python\n",
      "loves\n",
      "me\n"
     ]
    }
   ],
   "source": [
    "def func2(a, b, c):\n",
    "    print(a)\n",
    "    print(b)\n",
    "    print(c)\n",
    "func2('python', 'loves', 'me')"
   ]
  },
  {
   "cell_type": "code",
   "execution_count": 67,
   "id": "d584f952-aa94-4273-8a87-2381b277d201",
   "metadata": {},
   "outputs": [
    {
     "name": "stdout",
     "output_type": "stream",
     "text": [
      "python\n",
      "me\n",
      "loves\n"
     ]
    }
   ],
   "source": [
    "func2(a='python', c='loves', b='me')"
   ]
  },
  {
   "cell_type": "code",
   "execution_count": 73,
   "id": "5e40bb1b-7ff0-4329-aaeb-fa1b477792af",
   "metadata": {},
   "outputs": [
    {
     "name": "stdout",
     "output_type": "stream",
     "text": [
      "()\n",
      "(1, 2, 3, 'Harshit')\n"
     ]
    }
   ],
   "source": [
    "def func3(*args):\n",
    "    print(args)\n",
    "func3()\n",
    "func3(1, 2, 3, \"Harshit\")"
   ]
  },
  {
   "cell_type": "code",
   "execution_count": 78,
   "id": "20333dc2-a742-4c06-85da-d3ada4aff63c",
   "metadata": {},
   "outputs": [
    {
     "name": "stdout",
     "output_type": "stream",
     "text": [
      "1 2 3\n",
      "('Harshit', 'Shukla')\n"
     ]
    }
   ],
   "source": [
    "def func3(a, b, c, *args):\n",
    "    print(a, b, c)\n",
    "    print(args)\n",
    "\n",
    "func3(1, 2, 3, \"Harshit\", \"Shukla\")"
   ]
  },
  {
   "cell_type": "code",
   "execution_count": 99,
   "id": "e05af3a5-ee90-4281-a72d-823684affede",
   "metadata": {},
   "outputs": [
    {
     "name": "stdout",
     "output_type": "stream",
     "text": [
      "1 2 3\n",
      "('Harshit', 'Shukla')\n",
      "3 20\n",
      "{'name': 'Shiva', 'age': 30}\n"
     ]
    }
   ],
   "source": [
    "# format should be same ( params, args, default args, keyworded args )\n",
    "def func3(a, b, c, *args, d = 10, e = 20, **kwargs):\n",
    "    print(a, b, c)\n",
    "    print(args)\n",
    "    print(d, e)\n",
    "    print(kwargs)\n",
    "\n",
    "func3(1, 2, 3, \"Harshit\", \"Shukla\",  d = 3, name = \"Shiva\", age =30)"
   ]
  },
  {
   "cell_type": "markdown",
   "id": "2092bf73-9853-4ebb-b04f-7889f0d27d84",
   "metadata": {},
   "source": [
    "## Lambda functions"
   ]
  },
  {
   "cell_type": "code",
   "execution_count": 102,
   "id": "a0e47d1d-dc51-455d-8425-882873ded5b5",
   "metadata": {},
   "outputs": [
    {
     "data": {
      "text/plain": [
       "7"
      ]
     },
     "execution_count": 102,
     "metadata": {},
     "output_type": "execute_result"
    }
   ],
   "source": [
    "add = lambda a, b: a + b\n",
    "add(2, 5)\n",
    "# print(add)"
   ]
  },
  {
   "cell_type": "code",
   "execution_count": 111,
   "id": "4188bd0b-af8d-4149-a057-69724e7311d1",
   "metadata": {},
   "outputs": [
    {
     "name": "stdout",
     "output_type": "stream",
     "text": [
      "[('Nidhi', 1), ('Harshit', 2), ('Ravi', 5)]\n"
     ]
    }
   ],
   "source": [
    "def key(x):\n",
    "    return x[1]\n",
    "a = [('Harshit', 2), (\"Ravi\", 5), (\"Nidhi\", 1)]\n",
    "# a.sort()\n",
    "# sorted?\n",
    "a = sorted(a, key = lambda x: x[1])\n",
    "print(a)"
   ]
  },
  {
   "cell_type": "markdown",
   "id": "ada7c665-8669-48f2-8b75-da4bfdf0bd2e",
   "metadata": {},
   "source": [
    "## decorators in functions"
   ]
  },
  {
   "cell_type": "code",
   "execution_count": 145,
   "id": "d87759f6-4285-41ab-bd88-9c103a54ce48",
   "metadata": {},
   "outputs": [],
   "source": [
    "users = {\n",
    "    \"jatin\": \"8118\",\n",
    "    \"dhanuk\": \"1234\"\n",
    "}"
   ]
  },
  {
   "cell_type": "code",
   "execution_count": 135,
   "id": "51fc2547-824e-4981-b97f-020684f9c54a",
   "metadata": {},
   "outputs": [
    {
     "name": "stdout",
     "output_type": "stream",
     "text": [
      "Hello jatin\n"
     ]
    }
   ],
   "source": [
    "def show(username, password):\n",
    "    if username in users and users[username] == password:\n",
    "        print(\"Hello\", username)\n",
    "    elif username not in users:\n",
    "        print(\"username doesn't exists\")\n",
    "    else:\n",
    "        print('wrong password')\n",
    "\n",
    "\n",
    "show(\"jatin\", \"8118\")"
   ]
  },
  {
   "cell_type": "code",
   "execution_count": 136,
   "id": "28fff9ed-b199-4242-a4eb-726216234243",
   "metadata": {},
   "outputs": [
    {
     "name": "stdout",
     "output_type": "stream",
     "text": [
      "Hello jatin 5\n"
     ]
    }
   ],
   "source": [
    "def add(username, password, a, b):\n",
    "    if username in users and users[username] == password:\n",
    "        print(\"Hello\",username,a + b)\n",
    "    elif username not in users:\n",
    "        print(\"username doesn't exists\")\n",
    "    else:\n",
    "        print('wrong password')\n",
    "\n",
    "\n",
    "add(\"jatin\", \"8118\", 1, 4)"
   ]
  },
  {
   "cell_type": "code",
   "execution_count": 1,
   "id": "dc38c827-abc8-4cd4-9007-b69232ac4584",
   "metadata": {},
   "outputs": [
    {
     "name": "stdout",
     "output_type": "stream",
     "text": [
      "1 2 3 4 5\n",
      "(1, 2, 3)\n",
      "{}\n"
     ]
    }
   ],
   "source": [
    "def temp(*args, **kwargs):\n",
    "    print(args)\n",
    "    print(kwargs)\n",
    "\n",
    "b = [1, 2, 3, 4, 5]\n",
    "print(*b)\n",
    "a = {1, 2, 3}\n",
    "temp(*a)  "
   ]
  },
  {
   "cell_type": "code",
   "execution_count": 169,
   "id": "20f62867-c300-4503-b353-728eff3e0a44",
   "metadata": {},
   "outputs": [],
   "source": [
    "# something like protected route\n",
    "def login_required(func):\n",
    "    def wrapper(username, password, *args, **kwargs):\n",
    "        if username in users and users[username] == password:\n",
    "            func(*args, **kwargs)\n",
    "        else: \n",
    "            print('not authenticated')\n",
    "            \n",
    "    return wrapper"
   ]
  },
  {
   "cell_type": "code",
   "execution_count": 161,
   "id": "5176dc8c-d908-466d-8c49-ec7fe5e5af43",
   "metadata": {},
   "outputs": [
    {
     "name": "stdout",
     "output_type": "stream",
     "text": [
      "3\n"
     ]
    }
   ],
   "source": [
    "# 1st method\n",
    "def add(a, b):\n",
    "    print(a + b)\n",
    "protected_add = login_required(add)\n",
    "protected_add(\"jatin\", \"8118\", 1, 2)\n",
    "# print(protected_add)"
   ]
  },
  {
   "cell_type": "code",
   "execution_count": 162,
   "id": "ec86f06e-09b6-434b-8357-5924b7967215",
   "metadata": {},
   "outputs": [
    {
     "name": "stdout",
     "output_type": "stream",
     "text": [
      "35\n"
     ]
    }
   ],
   "source": [
    "# 2nd method\n",
    "def add(a, b):\n",
    "    print(a + b)\n",
    "add = login_required(add)\n",
    "add(\"jatin\", \"8118\", 32, 3)"
   ]
  },
  {
   "cell_type": "code",
   "execution_count": 168,
   "id": "1c5a55e5-17b6-4251-8c00-08a83a36234c",
   "metadata": {},
   "outputs": [
    {
     "name": "stdout",
     "output_type": "stream",
     "text": [
      "not authenticated\n",
      "7\n",
      "48\n"
     ]
    }
   ],
   "source": [
    "# 3rd method\n",
    "@login_required\n",
    "def add(a, b):\n",
    "    print(a + b)\n",
    "\n",
    "add(\"Harshit\", \"1234\", 3, 4)\n",
    "add(\"jatin\", \"8118\", 3, 4)\n",
    "add(\"dhanuk\", \"1234\", 3, 45)"
   ]
  }
 ],
 "metadata": {
  "kernelspec": {
   "display_name": "Python 3 (ipykernel)",
   "language": "python",
   "name": "python3"
  },
  "language_info": {
   "codemirror_mode": {
    "name": "ipython",
    "version": 3
   },
   "file_extension": ".py",
   "mimetype": "text/x-python",
   "name": "python",
   "nbconvert_exporter": "python",
   "pygments_lexer": "ipython3",
   "version": "3.11.3"
  }
 },
 "nbformat": 4,
 "nbformat_minor": 5
}
